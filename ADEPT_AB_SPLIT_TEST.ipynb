{
 "cells": [
  {
   "cell_type": "markdown",
   "id": "cb3b3f03-235e-4a3a-a121-3d027aed0341",
   "metadata": {},
   "source": [
    "# MRE Quality ML Prediction\n",
    "\n",
    "### MLFlow Pre-packaged Model Server AB Test Deployment on Kubernetes distrubuted compute with GPUs \n",
    "In this example powered by *ADEPT* methodogies, we will build two models with MLFlow and we will deploy them as an A/B test deployment. The reason this is powerful is because it allows you to deploy a new model next to the old one, distributing a percentage of traffic. These deployment strategies are quite simple using Seldon, and can be extended to shadow deployments, multi-armed-bandits, etc.\n",
    "\n",
    "Tutorial Overview\n",
    "This tutorial will follow closely break down in the following sections:\n",
    "\n",
    "1. Train the MLFlow elastic net MRE Quality example\n",
    "\n",
    "2. Deploy your trained model leveraging MLFlow model server\n",
    "\n",
    "3. Test the deployed MLFlow model by sending requests\n",
    "\n",
    "4. Deploy your second model as an A/B test\n",
    "\n",
    "5. Visualise and monitor the performance of your models with automated self-service dashboards for decsion engineering!"
   ]
  },
  {
   "cell_type": "code",
   "execution_count": 1,
   "id": "7e47623f-e8eb-4322-86f6-97236be4ec8a",
   "metadata": {},
   "outputs": [],
   "source": [
    "### temp fix for PoC - fix deps, this takes a few minutes and wont be in production version\n",
    "\n",
    "## pip uninstall itsdangerous werkzeug scikit-learn --yes\n",
    "## pip install itsdangerous==2.0.1 werkzeug==2.0.3 scikit-learn==1.1.2 pandas"
   ]
  },
  {
   "cell_type": "code",
   "execution_count": 2,
   "id": "cf1d5843-82a0-45b6-ab7c-3b4ad9709da2",
   "metadata": {},
   "outputs": [],
   "source": [
    "import os\n",
    "import sys\n",
    "from s3 import init_aws_creds\n",
    "import warnings\n",
    "import numpy as np\n",
    "import pandas as pd\n",
    "import mlflow.sklearn\n",
    "import werkzeug as wkz\n",
    "import mlflow, sklearn\n",
    "import itsdangerous as itd\n",
    "\n",
    "from sklearn.metrics import mean_squared_error, mean_absolute_error, r2_score\n",
    "from sklearn.model_selection import train_test_split\n",
    "from sklearn.linear_model import ElasticNet\n",
    "\n",
    "from seldon_core.seldon_client import SeldonClient"
   ]
  },
  {
   "cell_type": "code",
   "execution_count": 3,
   "id": "f747c15d-469e-4638-97a8-bac7c86950f5",
   "metadata": {},
   "outputs": [
    {
     "name": "stdout",
     "output_type": "stream",
     "text": [
      "v2.0.1\n",
      "v2.0.3\n",
      "v1.1.2\n",
      "v1.14.1\n"
     ]
    }
   ],
   "source": [
    "##  Reload the notebook kernel.\n",
    "\n",
    "print('v' + itd.__version__)        ##  Output: v2.0.1\n",
    "print('v' + wkz.__version__)        ##  Output: v2.0.3\n",
    "print('v' + sklearn.__version__)    ##  Output: v1.1.2\n",
    "print('v' + mlflow.__version__)     ##  Output: v1.14.1"
   ]
  },
  {
   "cell_type": "code",
   "execution_count": 4,
   "id": "e5014f99-71d8-49af-9c83-f358df9e1a10",
   "metadata": {},
   "outputs": [],
   "source": [
    " ## replace tracking URI from ADEPT/Aktiver GUI Pipeline Catalog page for MLFlow\n",
    "MLFLOW_MODEL_TRACKING = 'http://54.91.117.197:32682/'"
   ]
  },
  {
   "cell_type": "code",
   "execution_count": 5,
   "id": "e35af293-1d9f-44b3-bd7f-72c054d3608c",
   "metadata": {},
   "outputs": [],
   "source": [
    "mlflow.set_tracking_uri(MLFLOW_MODEL_TRACKING)\n",
    "mlflow.set_experiment(\"ADEPT_MRE_DEMO\")"
   ]
  },
  {
   "cell_type": "markdown",
   "id": "ed92ff2f-2092-4a59-98f4-4e21b50ea840",
   "metadata": {},
   "source": [
    "### Define MLflow project with MLproject file:\n",
    "Next, project uses Conda for the environment and that it’s defined in the conda.yaml file.\n",
    "Lastly, we can also see that the training will be performed by the train.py file, which receives two parameters ```alpha``` and ```l1_ratio```.\n",
    "\n",
    "*Note: It is important to version lock the software, as in ```conda.yaml``` as a step towards reproducible data science."
   ]
  },
  {
   "cell_type": "code",
   "execution_count": 6,
   "id": "2ff5bd5e-2edc-4293-9692-8b1047d4a6e2",
   "metadata": {},
   "outputs": [
    {
     "name": "stdout",
     "output_type": "stream",
     "text": [
      "\u001b[94mname\u001b[39;49;00m:\u001b[37m \u001b[39;49;00mmre-quality\u001b[37m\u001b[39;49;00m\n",
      "\u001b[37m\u001b[39;49;00m\n",
      "\u001b[94mconda_env\u001b[39;49;00m:\u001b[37m \u001b[39;49;00mconda.yaml\u001b[37m\u001b[39;49;00m\n",
      "\u001b[37m\u001b[39;49;00m\n",
      "\u001b[94mentry_points\u001b[39;49;00m:\u001b[37m\u001b[39;49;00m\n",
      "\u001b[37m  \u001b[39;49;00m\u001b[94mmain\u001b[39;49;00m:\u001b[37m\u001b[39;49;00m\n",
      "\u001b[37m    \u001b[39;49;00m\u001b[94mparameters\u001b[39;49;00m:\u001b[37m\u001b[39;49;00m\n",
      "\u001b[37m      \u001b[39;49;00m\u001b[94malpha\u001b[39;49;00m:\u001b[37m \u001b[39;49;00mfloat\u001b[37m\u001b[39;49;00m\n",
      "\u001b[37m      \u001b[39;49;00m\u001b[94ml1_ratio\u001b[39;49;00m:\u001b[37m \u001b[39;49;00m{\u001b[94mtype\u001b[39;49;00m:\u001b[37m \u001b[39;49;00m\u001b[31mfloat\u001b[39;49;00m,\u001b[94m default\u001b[39;49;00m:\u001b[37m \u001b[39;49;00m\u001b[31m0.1\u001b[39;49;00m}\u001b[37m\u001b[39;49;00m\n",
      "\u001b[37m    \u001b[39;49;00m\u001b[94mcommand\u001b[39;49;00m:\u001b[37m \u001b[39;49;00m\u001b[33m\"\u001b[39;49;00m\u001b[33mpython\u001b[39;49;00m\u001b[31m \u001b[39;49;00m\u001b[33mtrain.py\u001b[39;49;00m\u001b[31m \u001b[39;49;00m\u001b[33m{alpha}\u001b[39;49;00m\u001b[31m \u001b[39;49;00m\u001b[33m{l1_ratio}\u001b[39;49;00m\u001b[33m\"\u001b[39;49;00m\u001b[37m\u001b[39;49;00m\n",
      "\u001b[94mname\u001b[39;49;00m:\u001b[37m \u001b[39;49;00mmre-quality\u001b[37m\u001b[39;49;00m\n",
      "\u001b[94mchannels\u001b[39;49;00m:\u001b[37m\u001b[39;49;00m\n",
      "\u001b[37m  \u001b[39;49;00m-\u001b[37m \u001b[39;49;00mdefaults\u001b[37m\u001b[39;49;00m\n",
      "\u001b[94mdependencies\u001b[39;49;00m:\u001b[37m\u001b[39;49;00m\n",
      "\u001b[37m  \u001b[39;49;00m-\u001b[37m \u001b[39;49;00mpython=3.9\u001b[37m\u001b[39;49;00m\n",
      "\u001b[37m  \u001b[39;49;00m-\u001b[37m \u001b[39;49;00mscikit-learn=v1.1.2\u001b[37m\u001b[39;49;00m\n",
      "\u001b[37m  \u001b[39;49;00m-\u001b[37m \u001b[39;49;00m\u001b[94mpip\u001b[39;49;00m:\u001b[37m\u001b[39;49;00m\n",
      "\u001b[37m    \u001b[39;49;00m-\u001b[37m \u001b[39;49;00mmlflow=1.14.1\u001b[37m\u001b[39;49;00m\n"
     ]
    }
   ],
   "source": [
    "!pygmentize -l yaml MLproject\n",
    "!pygmentize conda.yaml"
   ]
  },
  {
   "cell_type": "code",
   "execution_count": 7,
   "id": "fb4b6d95-5dc7-4f39-b083-91e5118828fd",
   "metadata": {},
   "outputs": [
    {
     "data": {
      "text/html": [
       "<div>\n",
       "<style scoped>\n",
       "    .dataframe tbody tr th:only-of-type {\n",
       "        vertical-align: middle;\n",
       "    }\n",
       "\n",
       "    .dataframe tbody tr th {\n",
       "        vertical-align: top;\n",
       "    }\n",
       "\n",
       "    .dataframe thead th {\n",
       "        text-align: right;\n",
       "    }\n",
       "</style>\n",
       "<table border=\"1\" class=\"dataframe\">\n",
       "  <thead>\n",
       "    <tr style=\"text-align: right;\">\n",
       "      <th></th>\n",
       "      <th>fixed acidity</th>\n",
       "      <th>volatile acidity</th>\n",
       "      <th>citric acid</th>\n",
       "      <th>residual sugar</th>\n",
       "      <th>chlorides</th>\n",
       "      <th>free sulfur dioxide</th>\n",
       "      <th>total sulfur dioxide</th>\n",
       "      <th>density</th>\n",
       "      <th>pH</th>\n",
       "      <th>sulphates</th>\n",
       "      <th>alcohol</th>\n",
       "      <th>quality</th>\n",
       "    </tr>\n",
       "  </thead>\n",
       "  <tbody>\n",
       "    <tr>\n",
       "      <th>0</th>\n",
       "      <td>7.0</td>\n",
       "      <td>0.27</td>\n",
       "      <td>0.36</td>\n",
       "      <td>20.7</td>\n",
       "      <td>0.045</td>\n",
       "      <td>45.0</td>\n",
       "      <td>170.0</td>\n",
       "      <td>1.0010</td>\n",
       "      <td>3.00</td>\n",
       "      <td>0.45</td>\n",
       "      <td>8.8</td>\n",
       "      <td>6</td>\n",
       "    </tr>\n",
       "    <tr>\n",
       "      <th>1</th>\n",
       "      <td>6.3</td>\n",
       "      <td>0.30</td>\n",
       "      <td>0.34</td>\n",
       "      <td>1.6</td>\n",
       "      <td>0.049</td>\n",
       "      <td>14.0</td>\n",
       "      <td>132.0</td>\n",
       "      <td>0.9940</td>\n",
       "      <td>3.30</td>\n",
       "      <td>0.49</td>\n",
       "      <td>9.5</td>\n",
       "      <td>6</td>\n",
       "    </tr>\n",
       "    <tr>\n",
       "      <th>2</th>\n",
       "      <td>8.1</td>\n",
       "      <td>0.28</td>\n",
       "      <td>0.40</td>\n",
       "      <td>6.9</td>\n",
       "      <td>0.050</td>\n",
       "      <td>30.0</td>\n",
       "      <td>97.0</td>\n",
       "      <td>0.9951</td>\n",
       "      <td>3.26</td>\n",
       "      <td>0.44</td>\n",
       "      <td>10.1</td>\n",
       "      <td>6</td>\n",
       "    </tr>\n",
       "    <tr>\n",
       "      <th>3</th>\n",
       "      <td>7.2</td>\n",
       "      <td>0.23</td>\n",
       "      <td>0.32</td>\n",
       "      <td>8.5</td>\n",
       "      <td>0.058</td>\n",
       "      <td>47.0</td>\n",
       "      <td>186.0</td>\n",
       "      <td>0.9956</td>\n",
       "      <td>3.19</td>\n",
       "      <td>0.40</td>\n",
       "      <td>9.9</td>\n",
       "      <td>6</td>\n",
       "    </tr>\n",
       "    <tr>\n",
       "      <th>4</th>\n",
       "      <td>7.2</td>\n",
       "      <td>0.23</td>\n",
       "      <td>0.32</td>\n",
       "      <td>8.5</td>\n",
       "      <td>0.058</td>\n",
       "      <td>47.0</td>\n",
       "      <td>186.0</td>\n",
       "      <td>0.9956</td>\n",
       "      <td>3.19</td>\n",
       "      <td>0.40</td>\n",
       "      <td>9.9</td>\n",
       "      <td>6</td>\n",
       "    </tr>\n",
       "  </tbody>\n",
       "</table>\n",
       "</div>"
      ],
      "text/plain": [
       "   fixed acidity  volatile acidity  citric acid  residual sugar  chlorides  \\\n",
       "0            7.0              0.27         0.36            20.7      0.045   \n",
       "1            6.3              0.30         0.34             1.6      0.049   \n",
       "2            8.1              0.28         0.40             6.9      0.050   \n",
       "3            7.2              0.23         0.32             8.5      0.058   \n",
       "4            7.2              0.23         0.32             8.5      0.058   \n",
       "\n",
       "   free sulfur dioxide  total sulfur dioxide  density    pH  sulphates  \\\n",
       "0                 45.0                 170.0   1.0010  3.00       0.45   \n",
       "1                 14.0                 132.0   0.9940  3.30       0.49   \n",
       "2                 30.0                  97.0   0.9951  3.26       0.44   \n",
       "3                 47.0                 186.0   0.9956  3.19       0.40   \n",
       "4                 47.0                 186.0   0.9956  3.19       0.40   \n",
       "\n",
       "   alcohol  quality  \n",
       "0      8.8        6  \n",
       "1      9.5        6  \n",
       "2     10.1        6  \n",
       "3      9.9        6  \n",
       "4      9.9        6  "
      ]
     },
     "execution_count": 7,
     "metadata": {},
     "output_type": "execute_result"
    }
   ],
   "source": [
    "data = pd.read_csv(\"mre-quality.csv\")\n",
    "data.head()"
   ]
  },
  {
   "cell_type": "code",
   "execution_count": 25,
   "id": "9fef3fe6-318b-4ef6-a529-585fc2044371",
   "metadata": {},
   "outputs": [
    {
     "name": "stdout",
     "output_type": "stream",
     "text": [
      "MLFlow Run UUID: 99abed6b4e8346849fe78f0404c278e9\n",
      "Elasticnet model (alpha=0.500000, l1_ratio=0.500000):\n",
      "  RMSE: 0.82224284975954\n",
      "  MAE: 0.6278761410160693\n",
      "  R2: 0.12678721972772689\n"
     ]
    },
    {
     "name": "stderr",
     "output_type": "stream",
     "text": [
      "Registered model 'adept_model-v' already exists. Creating a new version of this model...\n",
      "2022/09/06 22:02:09 INFO mlflow.tracking._model_registry.client: Waiting up to 300 seconds for model version to finish creation.                     Model name: adept_model-v, version 6\n",
      "Created version '6' of model 'adept_model-v'.\n"
     ]
    }
   ],
   "source": [
    "def eval_metrics(actual, pred):\n",
    "    rmse = np.sqrt(mean_squared_error(actual, pred))\n",
    "    mae = mean_absolute_error(actual, pred)\n",
    "    r2 = r2_score(actual, pred)\n",
    "    return rmse, mae, r2\n",
    "\n",
    "\n",
    "warnings.filterwarnings(\"ignore\")\n",
    "np.random.seed(40)\n",
    "\n",
    "# Read the mre-quality csv file (make sure you're running this from the root of MLflow!)\n",
    "mre_path = \"mre-quality.csv\"\n",
    "data = pd.read_csv(mre_path)\n",
    "\n",
    "# Split the data into training and test sets. (0.75, 0.25) split.\n",
    "train, test = train_test_split(data)\n",
    "\n",
    "# The predicted column is \"quality\" which is a scalar from [3, 9]\n",
    "train_x = train.drop([\"quality\"], axis=1)\n",
    "test_x = test.drop([\"quality\"], axis=1)\n",
    "train_y = train[[\"quality\"]]\n",
    "test_y = test[[\"quality\"]]\n",
    "\n",
    "params = {\"alpha\": 0.5, \"l1_ratio\": 0.5}\n",
    "\n",
    "mlflow.sklearn.autolog()\n",
    "with mlflow.start_run():\n",
    "    run = mlflow.active_run()\n",
    "    print(\"MLFlow Run UUID: \" + run._info.run_id)\n",
    "    init_aws_creds(run._info.run_id)\n",
    "    lr = ElasticNet(alpha=params[\"alpha\"], l1_ratio=params[\"l1_ratio\"], random_state=42)\n",
    "    lr.fit(train_x, train_y)\n",
    "\n",
    "    predicted_qualities = lr.predict(test_x)\n",
    "\n",
    "    (rmse, mae, r2) = eval_metrics(test_y, predicted_qualities)\n",
    "\n",
    "    print(\"Elasticnet model (alpha=%f, l1_ratio=%f):\" % (params[\"alpha\"], params[\"l1_ratio\"]))\n",
    "    print(\"  RMSE: %s\" % rmse)\n",
    "    print(\"  MAE: %s\" % mae)\n",
    "    print(\"  R2: %s\" % r2)\n",
    "\n",
    "    mlflow.log_param(\"alpha\", params[\"alpha\"])\n",
    "    mlflow.log_param(\"l1_ratio\", params[\"l1_ratio\"])\n",
    "    mlflow.log_metric(\"rmse\", rmse)\n",
    "    mlflow.log_metric(\"r2\", r2)\n",
    "    mlflow.log_metric(\"mae\", mae)\n",
    "    \n",
    "    \n",
    "    # https://adeptdemo.s3.amazonaws.com/artifacts/1/c8962777bd2e4faab7697fabbf311ae8/artifacts/model/conda.yaml\n",
    "    mlflow.sklearn.log_model(\n",
    "        sk_model=lr,\n",
    "        artifact_path='/model/',\n",
    "        registered_model_name=\"adept_model-v\"\n",
    "    )\n",
    "    \n",
    "    #mlflow.sklearn.log_model(lr, f'''https://adeptdemo.s3.amazonaws.com/artifacts/1/{run._info.run_id}/artifacts/model''')\n",
    "    #print(\"Model artifacts saved to: \" + f'''https://adeptdemo.s3.amazonaws.com/artifacts/1/{run._info.run_id}/artifacts/model/''')\n",
    "    #mlflow.log_artifacts(f'''https://adeptdemo.s3.amazonaws.com/artifacts/1/{run._info.run_id}/artifacts/model''')"
   ]
  },
  {
   "cell_type": "code",
   "execution_count": null,
   "id": "09e6fa70-5b67-45a6-a32a-f5558d6c2905",
   "metadata": {},
   "outputs": [],
   "source": []
  },
  {
   "cell_type": "code",
   "execution_count": null,
   "id": "2a57ece5-ff1d-40dd-9a3d-b986b5ed6731",
   "metadata": {},
   "outputs": [],
   "source": []
  },
  {
   "cell_type": "code",
   "execution_count": null,
   "id": "7655532d-d56c-40d7-88d6-d4bb596fdedd",
   "metadata": {},
   "outputs": [],
   "source": []
  },
  {
   "cell_type": "code",
   "execution_count": null,
   "id": "102c4873-d824-4020-a64b-0e3251da4c19",
   "metadata": {},
   "outputs": [],
   "source": []
  }
 ],
 "metadata": {
  "kernelspec": {
   "display_name": "Python 3 (ipykernel)",
   "language": "python",
   "name": "python3"
  },
  "language_info": {
   "codemirror_mode": {
    "name": "ipython",
    "version": 3
   },
   "file_extension": ".py",
   "mimetype": "text/x-python",
   "name": "python",
   "nbconvert_exporter": "python",
   "pygments_lexer": "ipython3",
   "version": "3.9.10"
  }
 },
 "nbformat": 4,
 "nbformat_minor": 5
}
