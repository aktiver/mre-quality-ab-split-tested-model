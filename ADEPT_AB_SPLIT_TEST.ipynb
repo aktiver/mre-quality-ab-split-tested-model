{
 "cells": [
  {
   "cell_type": "markdown",
   "id": "cb3b3f03-235e-4a3a-a121-3d027aed0341",
   "metadata": {},
   "source": [
    "# MRE Quality ML Prediction\n",
    "\n",
    "### MLFlow Pre-packaged Model Server AB Test Deployment on Kubernetes distrubuted compute with GPUs \n",
    "In this example powered by *ADEPT* methodogies, we will build two models with MLFlow and we will deploy them as an A/B test deployment. The reason this is powerful is because it allows you to deploy a new model next to the old one, distributing a percentage of traffic. These deployment strategies are quite simple using Seldon, and can be extended to shadow deployments, multi-armed-bandits, etc.\n",
    "\n",
    "Tutorial Overview\n",
    "This tutorial will follow closely break down in the following sections:\n",
    "\n",
    "1. Train the MLFlow elastic net MRE Quality example\n",
    "\n",
    "2. Deploy your trained model leveraging MLFlow model server\n",
    "\n",
    "3. Test the deployed MLFlow model by sending requests\n",
    "\n",
    "4. Deploy your second model as an A/B test\n",
    "\n",
    "5. Visualise and monitor the performance of your models with automated self-service dashboards for decsion engineering!"
   ]
  },
  {
   "cell_type": "code",
   "execution_count": 1,
   "id": "7e47623f-e8eb-4322-86f6-97236be4ec8a",
   "metadata": {},
   "outputs": [
    {
     "name": "stdout",
     "output_type": "stream",
     "text": [
      "Found existing installation: itsdangerous 2.1.2\n",
      "Uninstalling itsdangerous-2.1.2:\n",
      "  Successfully uninstalled itsdangerous-2.1.2\n",
      "Found existing installation: Werkzeug 2.1.1\n",
      "Uninstalling Werkzeug-2.1.1:\n",
      "  Successfully uninstalled Werkzeug-2.1.1\n",
      "Found existing installation: scikit-learn 0.24.2\n",
      "Uninstalling scikit-learn-0.24.2:\n",
      "  Successfully uninstalled scikit-learn-0.24.2\n",
      "Found existing installation: mlflow 1.14.1\n",
      "Uninstalling mlflow-1.14.1:\n",
      "  Successfully uninstalled mlflow-1.14.1\n",
      "\u001b[33mWARNING: Running pip as the 'root' user can result in broken permissions and conflicting behaviour with the system package manager. It is recommended to use a virtual environment instead: https://pip.pypa.io/warnings/venv\u001b[0m\u001b[33m\n",
      "\u001b[0mCollecting itsdangerous==2.0.1\n",
      "  Downloading itsdangerous-2.0.1-py3-none-any.whl (18 kB)\n",
      "Collecting werkzeug==2.0.3\n",
      "  Downloading Werkzeug-2.0.3-py3-none-any.whl (289 kB)\n",
      "\u001b[2K     \u001b[90m━━━━━━━━━━━━━━━━━━━━━━━━━━━━━━━━━━━━━━━\u001b[0m \u001b[32m289.2/289.2 KB\u001b[0m \u001b[31m3.4 MB/s\u001b[0m eta \u001b[36m0:00:00\u001b[0m00:01\u001b[0m\n",
      "\u001b[?25hCollecting scikit-learn==1.1.2\n",
      "  Downloading scikit_learn-1.1.2-cp39-cp39-manylinux_2_17_x86_64.manylinux2014_x86_64.whl (30.8 MB)\n",
      "\u001b[2K     \u001b[90m━━━━━━━━━━━━━━━━━━━━━━━━━━━━━━━━━━━━━━━━\u001b[0m \u001b[32m30.8/30.8 MB\u001b[0m \u001b[31m9.9 MB/s\u001b[0m eta \u001b[36m0:00:00\u001b[0m:00:01\u001b[0m00:01\u001b[0m\n",
      "\u001b[?25hRequirement already satisfied: pandas in /opt/conda/envs/rapids/lib/python3.9/site-packages (1.3.5)\n",
      "Collecting mlflow\n",
      "  Downloading mlflow-1.29.0-py3-none-any.whl (16.9 MB)\n",
      "\u001b[2K     \u001b[90m━━━━━━━━━━━━━━━━━━━━━━━━━━━━━━━━━━━━━━━━\u001b[0m \u001b[32m16.9/16.9 MB\u001b[0m \u001b[31m15.5 MB/s\u001b[0m eta \u001b[36m0:00:00\u001b[0m00:01\u001b[0m00:01\u001b[0m\n",
      "\u001b[?25hRequirement already satisfied: threadpoolctl>=2.0.0 in /opt/conda/envs/rapids/lib/python3.9/site-packages (from scikit-learn==1.1.2) (3.1.0)\n",
      "Requirement already satisfied: joblib>=1.0.0 in /opt/conda/envs/rapids/lib/python3.9/site-packages (from scikit-learn==1.1.2) (1.1.0)\n",
      "Requirement already satisfied: numpy>=1.17.3 in /opt/conda/envs/rapids/lib/python3.9/site-packages (from scikit-learn==1.1.2) (1.21.5)\n",
      "Requirement already satisfied: scipy>=1.3.2 in /opt/conda/envs/rapids/lib/python3.9/site-packages (from scikit-learn==1.1.2) (1.6.0)\n",
      "Requirement already satisfied: python-dateutil>=2.7.3 in /opt/conda/envs/rapids/lib/python3.9/site-packages (from pandas) (2.8.2)\n",
      "Requirement already satisfied: pytz>=2017.3 in /opt/conda/envs/rapids/lib/python3.9/site-packages (from pandas) (2021.3)\n",
      "Requirement already satisfied: requests<3,>=2.17.3 in /opt/conda/envs/rapids/lib/python3.9/site-packages (from mlflow) (2.27.1)\n",
      "Requirement already satisfied: querystring-parser<2 in /opt/conda/envs/rapids/lib/python3.9/site-packages (from mlflow) (1.2.4)\n",
      "Requirement already satisfied: packaging<22 in /opt/conda/envs/rapids/lib/python3.9/site-packages (from mlflow) (21.3)\n",
      "Requirement already satisfied: gitpython<4,>=2.1.0 in /opt/conda/envs/rapids/lib/python3.9/site-packages (from mlflow) (3.1.27)\n",
      "Requirement already satisfied: cloudpickle<3 in /opt/conda/envs/rapids/lib/python3.9/site-packages (from mlflow) (2.0.0)\n",
      "Requirement already satisfied: gunicorn<21 in /opt/conda/envs/rapids/lib/python3.9/site-packages (from mlflow) (20.0.4)\n",
      "Requirement already satisfied: prometheus-flask-exporter<1 in /opt/conda/envs/rapids/lib/python3.9/site-packages (from mlflow) (0.19.0)\n",
      "Requirement already satisfied: sqlalchemy<2,>=1.4.0 in /opt/conda/envs/rapids/lib/python3.9/site-packages (from mlflow) (1.4.34)\n",
      "Requirement already satisfied: Flask<3 in /opt/conda/envs/rapids/lib/python3.9/site-packages (from mlflow) (1.1.2)\n",
      "Requirement already satisfied: pyyaml<7,>=5.1 in /opt/conda/envs/rapids/lib/python3.9/site-packages (from mlflow) (5.4.1)\n",
      "Requirement already satisfied: databricks-cli<1,>=0.8.7 in /opt/conda/envs/rapids/lib/python3.9/site-packages (from mlflow) (0.16.6)\n",
      "Requirement already satisfied: entrypoints<1 in /opt/conda/envs/rapids/lib/python3.9/site-packages (from mlflow) (0.4)\n",
      "Requirement already satisfied: click<9,>=7.0 in /opt/conda/envs/rapids/lib/python3.9/site-packages (from mlflow) (8.0.3)\n",
      "Requirement already satisfied: protobuf<5,>=3.12.0 in /opt/conda/envs/rapids/lib/python3.9/site-packages (from mlflow) (3.19.4)\n",
      "Requirement already satisfied: alembic<2 in /opt/conda/envs/rapids/lib/python3.9/site-packages (from mlflow) (1.4.1)\n",
      "Requirement already satisfied: importlib-metadata!=4.7.0,<5,>=3.7.0 in /opt/conda/envs/rapids/lib/python3.9/site-packages (from mlflow) (4.10.1)\n",
      "Requirement already satisfied: sqlparse<1,>=0.4.0 in /opt/conda/envs/rapids/lib/python3.9/site-packages (from mlflow) (0.4.2)\n",
      "Requirement already satisfied: docker<7,>=4.0.0 in /opt/conda/envs/rapids/lib/python3.9/site-packages (from mlflow) (5.0.3)\n",
      "Requirement already satisfied: Mako in /opt/conda/envs/rapids/lib/python3.9/site-packages (from alembic<2->mlflow) (1.2.0)\n",
      "Requirement already satisfied: python-editor>=0.3 in /opt/conda/envs/rapids/lib/python3.9/site-packages (from alembic<2->mlflow) (1.0.4)\n",
      "Requirement already satisfied: oauthlib>=3.1.0 in /opt/conda/envs/rapids/lib/python3.9/site-packages (from databricks-cli<1,>=0.8.7->mlflow) (3.2.0)\n",
      "Requirement already satisfied: six>=1.10.0 in /opt/conda/envs/rapids/lib/python3.9/site-packages (from databricks-cli<1,>=0.8.7->mlflow) (1.16.0)\n",
      "Requirement already satisfied: pyjwt>=1.7.0 in /opt/conda/envs/rapids/lib/python3.9/site-packages (from databricks-cli<1,>=0.8.7->mlflow) (2.3.0)\n",
      "Requirement already satisfied: tabulate>=0.7.7 in /opt/conda/envs/rapids/lib/python3.9/site-packages (from databricks-cli<1,>=0.8.7->mlflow) (0.8.9)\n",
      "Requirement already satisfied: websocket-client>=0.32.0 in /opt/conda/envs/rapids/lib/python3.9/site-packages (from docker<7,>=4.0.0->mlflow) (1.2.3)\n",
      "Requirement already satisfied: Jinja2>=2.10.1 in /opt/conda/envs/rapids/lib/python3.9/site-packages (from Flask<3->mlflow) (3.0.3)\n",
      "Requirement already satisfied: gitdb<5,>=4.0.1 in /opt/conda/envs/rapids/lib/python3.9/site-packages (from gitpython<4,>=2.1.0->mlflow) (4.0.9)\n",
      "Requirement already satisfied: setuptools>=3.0 in /opt/conda/envs/rapids/lib/python3.9/site-packages (from gunicorn<21->mlflow) (59.8.0)\n",
      "Requirement already satisfied: zipp>=0.5 in /opt/conda/envs/rapids/lib/python3.9/site-packages (from importlib-metadata!=4.7.0,<5,>=3.7.0->mlflow) (3.7.0)\n",
      "Requirement already satisfied: pyparsing!=3.0.5,>=2.0.2 in /opt/conda/envs/rapids/lib/python3.9/site-packages (from packaging<22->mlflow) (3.0.7)\n",
      "Requirement already satisfied: prometheus-client in /opt/conda/envs/rapids/lib/python3.9/site-packages (from prometheus-flask-exporter<1->mlflow) (0.8.0)\n",
      "Requirement already satisfied: idna<4,>=2.5 in /opt/conda/envs/rapids/lib/python3.9/site-packages (from requests<3,>=2.17.3->mlflow) (3.3)\n",
      "Requirement already satisfied: charset-normalizer~=2.0.0 in /opt/conda/envs/rapids/lib/python3.9/site-packages (from requests<3,>=2.17.3->mlflow) (2.0.11)\n",
      "Requirement already satisfied: certifi>=2017.4.17 in /opt/conda/envs/rapids/lib/python3.9/site-packages (from requests<3,>=2.17.3->mlflow) (2021.10.8)\n",
      "Requirement already satisfied: urllib3<1.27,>=1.21.1 in /opt/conda/envs/rapids/lib/python3.9/site-packages (from requests<3,>=2.17.3->mlflow) (1.25.9)\n",
      "Requirement already satisfied: greenlet!=0.4.17 in /opt/conda/envs/rapids/lib/python3.9/site-packages (from sqlalchemy<2,>=1.4.0->mlflow) (1.1.2)\n",
      "Requirement already satisfied: smmap<6,>=3.0.1 in /opt/conda/envs/rapids/lib/python3.9/site-packages (from gitdb<5,>=4.0.1->gitpython<4,>=2.1.0->mlflow) (5.0.0)\n",
      "Requirement already satisfied: MarkupSafe>=2.0 in /opt/conda/envs/rapids/lib/python3.9/site-packages (from Jinja2>=2.10.1->Flask<3->mlflow) (2.0.1)\n",
      "Installing collected packages: werkzeug, itsdangerous, scikit-learn, mlflow\n",
      "Successfully installed itsdangerous-2.0.1 mlflow-1.29.0 scikit-learn-1.1.2 werkzeug-2.0.3\n",
      "\u001b[33mWARNING: Running pip as the 'root' user can result in broken permissions and conflicting behaviour with the system package manager. It is recommended to use a virtual environment instead: https://pip.pypa.io/warnings/venv\u001b[0m\u001b[33m\n",
      "\u001b[0m"
     ]
    }
   ],
   "source": [
    "### temp fix for PoC - fix deps; wont be in production version\n",
    "\n",
    "!pip uninstall itsdangerous werkzeug scikit-learn mlflow==1.14.1 --yes\n",
    "!pip install itsdangerous==2.0.1 werkzeug==2.0.3 scikit-learn==1.1.2 pandas mlflow"
   ]
  },
  {
   "cell_type": "code",
   "execution_count": 2,
   "id": "cf1d5843-82a0-45b6-ab7c-3b4ad9709da2",
   "metadata": {},
   "outputs": [],
   "source": [
    "import os\n",
    "import sys, json\n",
    "import warnings\n",
    "import numpy as np\n",
    "import pandas as pd\n",
    "import mlflow.sklearn\n",
    "import werkzeug as wkz\n",
    "import mlflow, sklearn\n",
    "import itsdangerous as itd\n",
    "\n",
    "from sklearn.metrics import mean_squared_error, mean_absolute_error, r2_score\n",
    "from sklearn.model_selection import train_test_split\n",
    "from sklearn.linear_model import ElasticNet\n",
    "\n",
    "from seldon_core.seldon_client import SeldonClient"
   ]
  },
  {
   "cell_type": "code",
   "execution_count": 3,
   "id": "f747c15d-469e-4638-97a8-bac7c86950f5",
   "metadata": {},
   "outputs": [
    {
     "name": "stdout",
     "output_type": "stream",
     "text": [
      "v2.0.1\n",
      "v2.0.3\n",
      "v1.1.2\n",
      "v1.29.0\n"
     ]
    }
   ],
   "source": [
    "##  Reload the notebook kernel.\n",
    "\n",
    "print('v' + itd.__version__)        ##  Output: v2.0.1\n",
    "print('v' + wkz.__version__)        ##  Output: v2.0.3\n",
    "print('v' + sklearn.__version__)    ##  Output: v1.1.2\n",
    "print('v' + mlflow.__version__)     ##  Output: v1.14.1"
   ]
  },
  {
   "cell_type": "code",
   "execution_count": 4,
   "id": "e5014f99-71d8-49af-9c83-f358df9e1a10",
   "metadata": {},
   "outputs": [],
   "source": [
    " ## replace tracking URI from ADEPT/Aktiver GUI Pipeline Catalog page for MLFlow\n",
    "MLFLOW_MODEL_TRACKING = 'http://54.166.226.23:30888' # replace with url of mlflow"
   ]
  },
  {
   "cell_type": "code",
   "execution_count": 6,
   "id": "e35af293-1d9f-44b3-bd7f-72c054d3608c",
   "metadata": {},
   "outputs": [
    {
     "data": {
      "text/plain": [
       "<Experiment: artifact_location='s3://adeptdemo/adept/1', creation_time=None, experiment_id='1', last_update_time=None, lifecycle_stage='active', name='ADEPT_MRE_DEMO', tags={}>"
      ]
     },
     "execution_count": 6,
     "metadata": {},
     "output_type": "execute_result"
    }
   ],
   "source": [
    "mlflow.set_tracking_uri(MLFLOW_MODEL_TRACKING)\n",
    "mlflow.set_experiment(\"ADEPT_MRE_DEMO\")"
   ]
  },
  {
   "cell_type": "markdown",
   "id": "ed92ff2f-2092-4a59-98f4-4e21b50ea840",
   "metadata": {},
   "source": [
    "### Define MLflow project with MLproject file:\n",
    "Next, project uses Conda for the environment and that it’s defined in the conda.yaml file.\n",
    "Lastly, we can also see that the training will be performed by the train.py file, which receives two parameters ```alpha``` and ```l1_ratio```.\n",
    "\n",
    "*Note: It is important to version lock the software, as in ```conda.yaml``` as a step towards reproducible data science."
   ]
  },
  {
   "cell_type": "code",
   "execution_count": 7,
   "id": "2ff5bd5e-2edc-4293-9692-8b1047d4a6e2",
   "metadata": {},
   "outputs": [
    {
     "name": "stdout",
     "output_type": "stream",
     "text": [
      "\u001b[94mname\u001b[39;49;00m:\u001b[37m \u001b[39;49;00mmre-quality\u001b[37m\u001b[39;49;00m\n",
      "\u001b[37m\u001b[39;49;00m\n",
      "\u001b[94mconda_env\u001b[39;49;00m:\u001b[37m \u001b[39;49;00mconda.yaml\u001b[37m\u001b[39;49;00m\n",
      "\u001b[37m\u001b[39;49;00m\n",
      "\u001b[94mentry_points\u001b[39;49;00m:\u001b[37m\u001b[39;49;00m\n",
      "\u001b[37m  \u001b[39;49;00m\u001b[94mmain\u001b[39;49;00m:\u001b[37m\u001b[39;49;00m\n",
      "\u001b[37m    \u001b[39;49;00m\u001b[94mparameters\u001b[39;49;00m:\u001b[37m\u001b[39;49;00m\n",
      "\u001b[37m      \u001b[39;49;00m\u001b[94malpha\u001b[39;49;00m:\u001b[37m \u001b[39;49;00mfloat\u001b[37m\u001b[39;49;00m\n",
      "\u001b[37m      \u001b[39;49;00m\u001b[94ml1_ratio\u001b[39;49;00m:\u001b[37m \u001b[39;49;00m{\u001b[94mtype\u001b[39;49;00m:\u001b[37m \u001b[39;49;00m\u001b[31mfloat\u001b[39;49;00m,\u001b[94m default\u001b[39;49;00m:\u001b[37m \u001b[39;49;00m\u001b[31m0.1\u001b[39;49;00m}\u001b[37m\u001b[39;49;00m\n",
      "\u001b[37m    \u001b[39;49;00m\u001b[94mcommand\u001b[39;49;00m:\u001b[37m \u001b[39;49;00m\u001b[33m\"\u001b[39;49;00m\u001b[33mpython\u001b[39;49;00m\u001b[31m \u001b[39;49;00m\u001b[33mtrain.py\u001b[39;49;00m\u001b[31m \u001b[39;49;00m\u001b[33m{alpha}\u001b[39;49;00m\u001b[31m \u001b[39;49;00m\u001b[33m{l1_ratio}\u001b[39;49;00m\u001b[33m\"\u001b[39;49;00m\u001b[37m\u001b[39;49;00m\n",
      "\u001b[94mname\u001b[39;49;00m:\u001b[37m \u001b[39;49;00mmre-quality\u001b[37m\u001b[39;49;00m\n",
      "\u001b[94mchannels\u001b[39;49;00m:\u001b[37m\u001b[39;49;00m\n",
      "\u001b[37m  \u001b[39;49;00m-\u001b[37m \u001b[39;49;00mdefaults\u001b[37m\u001b[39;49;00m\n",
      "\u001b[94mdependencies\u001b[39;49;00m:\u001b[37m\u001b[39;49;00m\n",
      "\u001b[37m  \u001b[39;49;00m-\u001b[37m \u001b[39;49;00mpython=3.9\u001b[37m\u001b[39;49;00m\n",
      "\u001b[37m  \u001b[39;49;00m-\u001b[37m \u001b[39;49;00mscikit-learn=v1.1.2\u001b[37m\u001b[39;49;00m\n",
      "\u001b[37m  \u001b[39;49;00m-\u001b[37m \u001b[39;49;00m\u001b[94mpip\u001b[39;49;00m:\u001b[37m\u001b[39;49;00m\n",
      "\u001b[37m    \u001b[39;49;00m-\u001b[37m \u001b[39;49;00mmlflow=1.14.1\u001b[37m\u001b[39;49;00m\n"
     ]
    }
   ],
   "source": [
    "!pygmentize -l yaml MLproject\n",
    "!pygmentize conda.yaml"
   ]
  },
  {
   "cell_type": "code",
   "execution_count": 8,
   "id": "fb4b6d95-5dc7-4f39-b083-91e5118828fd",
   "metadata": {},
   "outputs": [
    {
     "data": {
      "text/html": [
       "<div>\n",
       "<style scoped>\n",
       "    .dataframe tbody tr th:only-of-type {\n",
       "        vertical-align: middle;\n",
       "    }\n",
       "\n",
       "    .dataframe tbody tr th {\n",
       "        vertical-align: top;\n",
       "    }\n",
       "\n",
       "    .dataframe thead th {\n",
       "        text-align: right;\n",
       "    }\n",
       "</style>\n",
       "<table border=\"1\" class=\"dataframe\">\n",
       "  <thead>\n",
       "    <tr style=\"text-align: right;\">\n",
       "      <th></th>\n",
       "      <th>fixed acidity</th>\n",
       "      <th>volatile acidity</th>\n",
       "      <th>citric acid</th>\n",
       "      <th>residual sugar</th>\n",
       "      <th>chlorides</th>\n",
       "      <th>free sulfur dioxide</th>\n",
       "      <th>total sulfur dioxide</th>\n",
       "      <th>density</th>\n",
       "      <th>pH</th>\n",
       "      <th>sulphates</th>\n",
       "      <th>alcohol</th>\n",
       "      <th>quality</th>\n",
       "    </tr>\n",
       "  </thead>\n",
       "  <tbody>\n",
       "    <tr>\n",
       "      <th>0</th>\n",
       "      <td>7.0</td>\n",
       "      <td>0.27</td>\n",
       "      <td>0.36</td>\n",
       "      <td>20.7</td>\n",
       "      <td>0.045</td>\n",
       "      <td>45.0</td>\n",
       "      <td>170.0</td>\n",
       "      <td>1.0010</td>\n",
       "      <td>3.00</td>\n",
       "      <td>0.45</td>\n",
       "      <td>8.8</td>\n",
       "      <td>6</td>\n",
       "    </tr>\n",
       "    <tr>\n",
       "      <th>1</th>\n",
       "      <td>6.3</td>\n",
       "      <td>0.30</td>\n",
       "      <td>0.34</td>\n",
       "      <td>1.6</td>\n",
       "      <td>0.049</td>\n",
       "      <td>14.0</td>\n",
       "      <td>132.0</td>\n",
       "      <td>0.9940</td>\n",
       "      <td>3.30</td>\n",
       "      <td>0.49</td>\n",
       "      <td>9.5</td>\n",
       "      <td>6</td>\n",
       "    </tr>\n",
       "    <tr>\n",
       "      <th>2</th>\n",
       "      <td>8.1</td>\n",
       "      <td>0.28</td>\n",
       "      <td>0.40</td>\n",
       "      <td>6.9</td>\n",
       "      <td>0.050</td>\n",
       "      <td>30.0</td>\n",
       "      <td>97.0</td>\n",
       "      <td>0.9951</td>\n",
       "      <td>3.26</td>\n",
       "      <td>0.44</td>\n",
       "      <td>10.1</td>\n",
       "      <td>6</td>\n",
       "    </tr>\n",
       "    <tr>\n",
       "      <th>3</th>\n",
       "      <td>7.2</td>\n",
       "      <td>0.23</td>\n",
       "      <td>0.32</td>\n",
       "      <td>8.5</td>\n",
       "      <td>0.058</td>\n",
       "      <td>47.0</td>\n",
       "      <td>186.0</td>\n",
       "      <td>0.9956</td>\n",
       "      <td>3.19</td>\n",
       "      <td>0.40</td>\n",
       "      <td>9.9</td>\n",
       "      <td>6</td>\n",
       "    </tr>\n",
       "    <tr>\n",
       "      <th>4</th>\n",
       "      <td>7.2</td>\n",
       "      <td>0.23</td>\n",
       "      <td>0.32</td>\n",
       "      <td>8.5</td>\n",
       "      <td>0.058</td>\n",
       "      <td>47.0</td>\n",
       "      <td>186.0</td>\n",
       "      <td>0.9956</td>\n",
       "      <td>3.19</td>\n",
       "      <td>0.40</td>\n",
       "      <td>9.9</td>\n",
       "      <td>6</td>\n",
       "    </tr>\n",
       "  </tbody>\n",
       "</table>\n",
       "</div>"
      ],
      "text/plain": [
       "   fixed acidity  volatile acidity  citric acid  residual sugar  chlorides  \\\n",
       "0            7.0              0.27         0.36            20.7      0.045   \n",
       "1            6.3              0.30         0.34             1.6      0.049   \n",
       "2            8.1              0.28         0.40             6.9      0.050   \n",
       "3            7.2              0.23         0.32             8.5      0.058   \n",
       "4            7.2              0.23         0.32             8.5      0.058   \n",
       "\n",
       "   free sulfur dioxide  total sulfur dioxide  density    pH  sulphates  \\\n",
       "0                 45.0                 170.0   1.0010  3.00       0.45   \n",
       "1                 14.0                 132.0   0.9940  3.30       0.49   \n",
       "2                 30.0                  97.0   0.9951  3.26       0.44   \n",
       "3                 47.0                 186.0   0.9956  3.19       0.40   \n",
       "4                 47.0                 186.0   0.9956  3.19       0.40   \n",
       "\n",
       "   alcohol  quality  \n",
       "0      8.8        6  \n",
       "1      9.5        6  \n",
       "2     10.1        6  \n",
       "3      9.9        6  \n",
       "4      9.9        6  "
      ]
     },
     "execution_count": 8,
     "metadata": {},
     "output_type": "execute_result"
    }
   ],
   "source": [
    "data = pd.read_csv(\"mre-quality.csv\")\n",
    "data.head()"
   ]
  },
  {
   "cell_type": "code",
   "execution_count": 11,
   "id": "9fef3fe6-318b-4ef6-a529-585fc2044371",
   "metadata": {},
   "outputs": [
    {
     "name": "stdout",
     "output_type": "stream",
     "text": [
      "ML Experiment Run UUID: 2b34f79b4ab243ea998109dce4c3d49d\n",
      "Elasticnet model (alpha=0.500000, l1_ratio=0.500000):\n",
      "  RMSE: 0.82224284975954\n",
      "  MAE: 0.6278761410160693\n",
      "  R2: 0.12678721972772689\n"
     ]
    },
    {
     "name": "stderr",
     "output_type": "stream",
     "text": [
      "Registered model 'adept_model-v' already exists. Creating a new version of this model...\n",
      "2022/10/04 19:21:46 INFO mlflow.tracking._model_registry.client: Waiting up to 300 seconds for model version to finish creation.                     Model name: adept_model-v, version 2\n",
      "Created version '2' of model 'adept_model-v'.\n"
     ]
    }
   ],
   "source": [
    "def eval_metrics(actual, pred):\n",
    "    rmse = np.sqrt(mean_squared_error(actual, pred))\n",
    "    mae = mean_absolute_error(actual, pred)\n",
    "    r2 = r2_score(actual, pred)\n",
    "    return rmse, mae, r2\n",
    "\n",
    "\n",
    "warnings.filterwarnings(\"ignore\")\n",
    "np.random.seed(40)\n",
    "\n",
    "# Read the mre-quality csv file (make sure you're running this from the root of MLflow!)\n",
    "mre_path = \"mre-quality.csv\"\n",
    "data = pd.read_csv(mre_path)\n",
    "\n",
    "# Split the data into training and test sets. (0.75, 0.25) split.\n",
    "train, test = train_test_split(data)\n",
    "\n",
    "# The predicted column is \"quality\" which is a scalar from [3, 9]\n",
    "train_x = train.drop([\"quality\"], axis=1)\n",
    "test_x = test.drop([\"quality\"], axis=1)\n",
    "train_y = train[[\"quality\"]]\n",
    "test_y = test[[\"quality\"]]\n",
    "\n",
    "params = {\"alpha\": 0.5, \"l1_ratio\": 0.5}\n",
    "\n",
    "mlflow.sklearn.autolog()\n",
    "with mlflow.start_run():\n",
    "    run = mlflow.active_run()\n",
    "    print(\"ML Experiment Run UUID: \" + run._info.run_id)\n",
    "    \n",
    "    f = open('aws.json')\n",
    "    creds = json.load(f)\n",
    "    os.environ[\"AWS_ACCESS_KEY_ID\"] = creds[\"aws_access_key\"]\n",
    "    os.environ[\"AWS_SECRET_ACCESS_KEY\"] = creds[\"aws_secret_key\"]\n",
    "    \n",
    "    lr = ElasticNet(alpha=params[\"alpha\"], l1_ratio=params[\"l1_ratio\"], random_state=42)\n",
    "    lr.fit(train_x, train_y)\n",
    "\n",
    "    predicted_qualities = lr.predict(test_x)\n",
    "\n",
    "    (rmse, mae, r2) = eval_metrics(test_y, predicted_qualities)\n",
    "\n",
    "    print(\"Elasticnet model (alpha=%f, l1_ratio=%f):\" % (params[\"alpha\"], params[\"l1_ratio\"]))\n",
    "    print(\"  RMSE: %s\" % rmse)\n",
    "    print(\"  MAE: %s\" % mae)\n",
    "    print(\"  R2: %s\" % r2)\n",
    "\n",
    "    mlflow.log_param(\"alpha\", params[\"alpha\"])\n",
    "    mlflow.log_param(\"l1_ratio\", params[\"l1_ratio\"])\n",
    "    mlflow.log_metric(\"rmse\", rmse)\n",
    "    mlflow.log_metric(\"r2\", r2)\n",
    "    mlflow.log_metric(\"mae\", mae)\n",
    "    \n",
    "    \n",
    "    # https://adeptdemo.s3.amazonaws.com/artifacts/1/c8962777bd2e4faab7697fabbf311ae8/artifacts/model/conda.yaml\n",
    "    mlflow.sklearn.log_model(\n",
    "        sk_model=lr,\n",
    "        artifact_path='artifacts',\n",
    "        registered_model_name=\"adept_model-v\"\n",
    "    )\n",
    "    \n",
    "    #mlflow.sklearn.log_model(lr, f'''https://adeptdemo.s3.amazonaws.com/artifacts/1/{run._info.run_id}/artifacts/model''')\n",
    "    #print(\"Model artifacts saved to: \" + f'''https://adeptdemo.s3.amazonaws.com/artifacts/1/{run._info.run_id}/artifacts/model/''')\n",
    "    #mlflow.log_artifacts(f'''https://adeptdemo.s3.amazonaws.com/artifacts/1/{run._info.run_id}/artifacts/model''')"
   ]
  },
  {
   "cell_type": "code",
   "execution_count": 13,
   "id": "ebec88e7-495b-40f6-bf6b-a419ae0eadc9",
   "metadata": {},
   "outputs": [
    {
     "name": "stdout",
     "output_type": "stream",
     "text": [
      "  % Total    % Received % Xferd  Average Speed   Time    Time     Time  Current\n",
      "                                 Dload  Upload   Total   Spent    Left  Speed\n",
      "100   138  100   138    0     0   2759      0 --:--:-- --:--:-- --:--:--  2816\n",
      "100 42.9M  100 42.9M    0     0  94.3M      0 --:--:-- --:--:-- --:--:-- 94.3M\n"
     ]
    }
   ],
   "source": [
    "!curl -LO https://dl.k8s.io/release/v1.25.0/bin/linux/amd64/kubectl"
   ]
  },
  {
   "cell_type": "code",
   "execution_count": 16,
   "id": "612a2460-3c87-419e-8a92-39124cd5db77",
   "metadata": {},
   "outputs": [],
   "source": [
    "!install -o root -g root -m 0755 kubectl /usr/local/bin/kubectl"
   ]
  },
  {
   "cell_type": "code",
   "execution_count": 22,
   "id": "4bbb7378-2ac7-4eff-a8db-7e4ec6558c1c",
   "metadata": {},
   "outputs": [
    {
     "name": "stdout",
     "output_type": "stream",
     "text": [
      "Downloading https://get.helm.sh/helm-v3.10.0-linux-amd64.tar.gz\n",
      "Verifying checksum... Done.\n",
      "Preparing to install helm into /usr/local/bin\n",
      "helm installed into /usr/local/bin/helm\n"
     ]
    }
   ],
   "source": [
    "!curl -fsSL -o get_helm.sh https://raw.githubusercontent.com/helm/helm/main/scripts/get-helm-3\n",
    "!chmod 700 get_helm.sh\n",
    "!./get_helm.sh"
   ]
  },
  {
   "cell_type": "code",
   "execution_count": 56,
   "id": "5241b930-d6e7-4699-8d2f-d1355f706c40",
   "metadata": {},
   "outputs": [
    {
     "name": "stdout",
     "output_type": "stream",
     "text": [
      "\"datawire\" has been added to your repositories\n",
      "Release \"ambassador\" does not exist. Installing it now.\n",
      "W1004 20:26:09.744303     764 warnings.go:70] apiextensions.k8s.io/v1beta1 CustomResourceDefinition is deprecated in v1.16+, unavailable in v1.22+; use apiextensions.k8s.io/v1 CustomResourceDefinition\n",
      "W1004 20:26:09.750373     764 warnings.go:70] apiextensions.k8s.io/v1beta1 CustomResourceDefinition is deprecated in v1.16+, unavailable in v1.22+; use apiextensions.k8s.io/v1 CustomResourceDefinition\n",
      "W1004 20:26:09.760584     764 warnings.go:70] apiextensions.k8s.io/v1beta1 CustomResourceDefinition is deprecated in v1.16+, unavailable in v1.22+; use apiextensions.k8s.io/v1 CustomResourceDefinition\n",
      "W1004 20:26:09.768660     764 warnings.go:70] apiextensions.k8s.io/v1beta1 CustomResourceDefinition is deprecated in v1.16+, unavailable in v1.22+; use apiextensions.k8s.io/v1 CustomResourceDefinition\n",
      "W1004 20:26:09.777490     764 warnings.go:70] apiextensions.k8s.io/v1beta1 CustomResourceDefinition is deprecated in v1.16+, unavailable in v1.22+; use apiextensions.k8s.io/v1 CustomResourceDefinition\n",
      "W1004 20:26:09.794247     764 warnings.go:70] apiextensions.k8s.io/v1beta1 CustomResourceDefinition is deprecated in v1.16+, unavailable in v1.22+; use apiextensions.k8s.io/v1 CustomResourceDefinition\n",
      "W1004 20:26:09.801539     764 warnings.go:70] apiextensions.k8s.io/v1beta1 CustomResourceDefinition is deprecated in v1.16+, unavailable in v1.22+; use apiextensions.k8s.io/v1 CustomResourceDefinition\n",
      "W1004 20:26:09.811357     764 warnings.go:70] apiextensions.k8s.io/v1beta1 CustomResourceDefinition is deprecated in v1.16+, unavailable in v1.22+; use apiextensions.k8s.io/v1 CustomResourceDefinition\n",
      "W1004 20:26:09.820724     764 warnings.go:70] apiextensions.k8s.io/v1beta1 CustomResourceDefinition is deprecated in v1.16+, unavailable in v1.22+; use apiextensions.k8s.io/v1 CustomResourceDefinition\n",
      "W1004 20:26:09.838105     764 warnings.go:70] apiextensions.k8s.io/v1beta1 CustomResourceDefinition is deprecated in v1.16+, unavailable in v1.22+; use apiextensions.k8s.io/v1 CustomResourceDefinition\n",
      "W1004 20:26:09.846850     764 warnings.go:70] apiextensions.k8s.io/v1beta1 CustomResourceDefinition is deprecated in v1.16+, unavailable in v1.22+; use apiextensions.k8s.io/v1 CustomResourceDefinition\n",
      "W1004 20:26:09.857064     764 warnings.go:70] apiextensions.k8s.io/v1beta1 CustomResourceDefinition is deprecated in v1.16+, unavailable in v1.22+; use apiextensions.k8s.io/v1 CustomResourceDefinition\n",
      "W1004 20:26:09.868068     764 warnings.go:70] apiextensions.k8s.io/v1beta1 CustomResourceDefinition is deprecated in v1.16+, unavailable in v1.22+; use apiextensions.k8s.io/v1 CustomResourceDefinition\n",
      "W1004 20:26:09.875089     764 warnings.go:70] apiextensions.k8s.io/v1beta1 CustomResourceDefinition is deprecated in v1.16+, unavailable in v1.22+; use apiextensions.k8s.io/v1 CustomResourceDefinition\n",
      "W1004 20:26:09.883536     764 warnings.go:70] apiextensions.k8s.io/v1beta1 CustomResourceDefinition is deprecated in v1.16+, unavailable in v1.22+; use apiextensions.k8s.io/v1 CustomResourceDefinition\n",
      "W1004 20:26:09.891193     764 warnings.go:70] apiextensions.k8s.io/v1beta1 CustomResourceDefinition is deprecated in v1.16+, unavailable in v1.22+; use apiextensions.k8s.io/v1 CustomResourceDefinition\n",
      "W1004 20:26:09.898410     764 warnings.go:70] apiextensions.k8s.io/v1beta1 CustomResourceDefinition is deprecated in v1.16+, unavailable in v1.22+; use apiextensions.k8s.io/v1 CustomResourceDefinition\n",
      "W1004 20:26:09.905074     764 warnings.go:70] apiextensions.k8s.io/v1beta1 CustomResourceDefinition is deprecated in v1.16+, unavailable in v1.22+; use apiextensions.k8s.io/v1 CustomResourceDefinition\n",
      "W1004 20:26:09.910505     764 warnings.go:70] apiextensions.k8s.io/v1beta1 CustomResourceDefinition is deprecated in v1.16+, unavailable in v1.22+; use apiextensions.k8s.io/v1 CustomResourceDefinition\n",
      "W1004 20:26:09.915812     764 warnings.go:70] apiextensions.k8s.io/v1beta1 CustomResourceDefinition is deprecated in v1.16+, unavailable in v1.22+; use apiextensions.k8s.io/v1 CustomResourceDefinition\n",
      "W1004 20:26:09.918442     764 warnings.go:70] apiextensions.k8s.io/v1beta1 CustomResourceDefinition is deprecated in v1.16+, unavailable in v1.22+; use apiextensions.k8s.io/v1 CustomResourceDefinition\n",
      "W1004 20:26:09.924099     764 warnings.go:70] apiextensions.k8s.io/v1beta1 CustomResourceDefinition is deprecated in v1.16+, unavailable in v1.22+; use apiextensions.k8s.io/v1 CustomResourceDefinition\n",
      "W1004 20:26:09.930584     764 warnings.go:70] apiextensions.k8s.io/v1beta1 CustomResourceDefinition is deprecated in v1.16+, unavailable in v1.22+; use apiextensions.k8s.io/v1 CustomResourceDefinition\n",
      "W1004 20:26:09.941776     764 warnings.go:70] apiextensions.k8s.io/v1beta1 CustomResourceDefinition is deprecated in v1.16+, unavailable in v1.22+; use apiextensions.k8s.io/v1 CustomResourceDefinition\n",
      "W1004 20:26:09.948272     764 warnings.go:70] apiextensions.k8s.io/v1beta1 CustomResourceDefinition is deprecated in v1.16+, unavailable in v1.22+; use apiextensions.k8s.io/v1 CustomResourceDefinition\n",
      "W1004 20:26:09.952429     764 warnings.go:70] apiextensions.k8s.io/v1beta1 CustomResourceDefinition is deprecated in v1.16+, unavailable in v1.22+; use apiextensions.k8s.io/v1 CustomResourceDefinition\n",
      "W1004 20:26:09.955778     764 warnings.go:70] apiextensions.k8s.io/v1beta1 CustomResourceDefinition is deprecated in v1.16+, unavailable in v1.22+; use apiextensions.k8s.io/v1 CustomResourceDefinition\n",
      "W1004 20:26:09.959298     764 warnings.go:70] apiextensions.k8s.io/v1beta1 CustomResourceDefinition is deprecated in v1.16+, unavailable in v1.22+; use apiextensions.k8s.io/v1 CustomResourceDefinition\n",
      "W1004 20:26:09.967228     764 warnings.go:70] apiextensions.k8s.io/v1beta1 CustomResourceDefinition is deprecated in v1.16+, unavailable in v1.22+; use apiextensions.k8s.io/v1 CustomResourceDefinition\n",
      "W1004 20:26:11.975834     764 warnings.go:70] apiextensions.k8s.io/v1beta1 CustomResourceDefinition is deprecated in v1.16+, unavailable in v1.22+; use apiextensions.k8s.io/v1 CustomResourceDefinition\n",
      "W1004 20:26:11.978132     764 warnings.go:70] apiextensions.k8s.io/v1beta1 CustomResourceDefinition is deprecated in v1.16+, unavailable in v1.22+; use apiextensions.k8s.io/v1 CustomResourceDefinition\n",
      "W1004 20:26:11.981173     764 warnings.go:70] apiextensions.k8s.io/v1beta1 CustomResourceDefinition is deprecated in v1.16+, unavailable in v1.22+; use apiextensions.k8s.io/v1 CustomResourceDefinition\n",
      "W1004 20:26:11.985189     764 warnings.go:70] apiextensions.k8s.io/v1beta1 CustomResourceDefinition is deprecated in v1.16+, unavailable in v1.22+; use apiextensions.k8s.io/v1 CustomResourceDefinition\n",
      "W1004 20:26:11.988088     764 warnings.go:70] apiextensions.k8s.io/v1beta1 CustomResourceDefinition is deprecated in v1.16+, unavailable in v1.22+; use apiextensions.k8s.io/v1 CustomResourceDefinition\n",
      "W1004 20:26:11.992319     764 warnings.go:70] apiextensions.k8s.io/v1beta1 CustomResourceDefinition is deprecated in v1.16+, unavailable in v1.22+; use apiextensions.k8s.io/v1 CustomResourceDefinition\n",
      "W1004 20:26:11.995727     764 warnings.go:70] apiextensions.k8s.io/v1beta1 CustomResourceDefinition is deprecated in v1.16+, unavailable in v1.22+; use apiextensions.k8s.io/v1 CustomResourceDefinition\n",
      "W1004 20:26:11.998059     764 warnings.go:70] apiextensions.k8s.io/v1beta1 CustomResourceDefinition is deprecated in v1.16+, unavailable in v1.22+; use apiextensions.k8s.io/v1 CustomResourceDefinition\n",
      "W1004 20:26:12.000757     764 warnings.go:70] apiextensions.k8s.io/v1beta1 CustomResourceDefinition is deprecated in v1.16+, unavailable in v1.22+; use apiextensions.k8s.io/v1 CustomResourceDefinition\n",
      "W1004 20:26:12.006382     764 warnings.go:70] apiextensions.k8s.io/v1beta1 CustomResourceDefinition is deprecated in v1.16+, unavailable in v1.22+; use apiextensions.k8s.io/v1 CustomResourceDefinition\n",
      "W1004 20:26:12.010622     764 warnings.go:70] apiextensions.k8s.io/v1beta1 CustomResourceDefinition is deprecated in v1.16+, unavailable in v1.22+; use apiextensions.k8s.io/v1 CustomResourceDefinition\n",
      "W1004 20:26:12.013054     764 warnings.go:70] apiextensions.k8s.io/v1beta1 CustomResourceDefinition is deprecated in v1.16+, unavailable in v1.22+; use apiextensions.k8s.io/v1 CustomResourceDefinition\n",
      "W1004 20:26:12.015822     764 warnings.go:70] apiextensions.k8s.io/v1beta1 CustomResourceDefinition is deprecated in v1.16+, unavailable in v1.22+; use apiextensions.k8s.io/v1 CustomResourceDefinition\n",
      "W1004 20:26:12.018699     764 warnings.go:70] apiextensions.k8s.io/v1beta1 CustomResourceDefinition is deprecated in v1.16+, unavailable in v1.22+; use apiextensions.k8s.io/v1 CustomResourceDefinition\n",
      "W1004 20:26:12.022363     764 warnings.go:70] apiextensions.k8s.io/v1beta1 CustomResourceDefinition is deprecated in v1.16+, unavailable in v1.22+; use apiextensions.k8s.io/v1 CustomResourceDefinition\n",
      "W1004 20:26:12.024764     764 warnings.go:70] apiextensions.k8s.io/v1beta1 CustomResourceDefinition is deprecated in v1.16+, unavailable in v1.22+; use apiextensions.k8s.io/v1 CustomResourceDefinition\n",
      "W1004 20:26:12.026832     764 warnings.go:70] apiextensions.k8s.io/v1beta1 CustomResourceDefinition is deprecated in v1.16+, unavailable in v1.22+; use apiextensions.k8s.io/v1 CustomResourceDefinition\n",
      "W1004 20:26:12.028774     764 warnings.go:70] apiextensions.k8s.io/v1beta1 CustomResourceDefinition is deprecated in v1.16+, unavailable in v1.22+; use apiextensions.k8s.io/v1 CustomResourceDefinition\n",
      "W1004 20:26:12.030765     764 warnings.go:70] apiextensions.k8s.io/v1beta1 CustomResourceDefinition is deprecated in v1.16+, unavailable in v1.22+; use apiextensions.k8s.io/v1 CustomResourceDefinition\n",
      "manifest_sorter.go:192: info: skipping unknown hook: \"crd-install\"\n",
      "manifest_sorter.go:192: info: skipping unknown hook: \"crd-install\"\n",
      "manifest_sorter.go:192: info: skipping unknown hook: \"crd-install\"\n",
      "manifest_sorter.go:192: info: skipping unknown hook: \"crd-install\"\n",
      "manifest_sorter.go:192: info: skipping unknown hook: \"crd-install\"\n",
      "manifest_sorter.go:192: info: skipping unknown hook: \"crd-install\"\n",
      "manifest_sorter.go:192: info: skipping unknown hook: \"crd-install\"\n",
      "manifest_sorter.go:192: info: skipping unknown hook: \"crd-install\"\n",
      "manifest_sorter.go:192: info: skipping unknown hook: \"crd-install\"\n",
      "manifest_sorter.go:192: info: skipping unknown hook: \"crd-install\"\n",
      "manifest_sorter.go:192: info: skipping unknown hook: \"crd-install\"\n",
      "manifest_sorter.go:192: info: skipping unknown hook: \"crd-install\"\n",
      "manifest_sorter.go:192: info: skipping unknown hook: \"crd-install\"\n",
      "manifest_sorter.go:192: info: skipping unknown hook: \"crd-install\"\n",
      "manifest_sorter.go:192: info: skipping unknown hook: \"crd-install\"\n",
      "manifest_sorter.go:192: info: skipping unknown hook: \"crd-install\"\n",
      "manifest_sorter.go:192: info: skipping unknown hook: \"crd-install\"\n",
      "manifest_sorter.go:192: info: skipping unknown hook: \"crd-install\"\n",
      "manifest_sorter.go:192: info: skipping unknown hook: \"crd-install\"\n",
      "W1004 20:26:13.714628     764 warnings.go:70] rbac.authorization.k8s.io/v1beta1 ClusterRole is deprecated in v1.17+, unavailable in v1.22+; use rbac.authorization.k8s.io/v1 ClusterRole\n",
      "W1004 20:26:13.716285     764 warnings.go:70] rbac.authorization.k8s.io/v1beta1 ClusterRole is deprecated in v1.17+, unavailable in v1.22+; use rbac.authorization.k8s.io/v1 ClusterRole\n",
      "W1004 20:26:13.717910     764 warnings.go:70] rbac.authorization.k8s.io/v1beta1 ClusterRole is deprecated in v1.17+, unavailable in v1.22+; use rbac.authorization.k8s.io/v1 ClusterRole\n",
      "W1004 20:26:13.719544     764 warnings.go:70] rbac.authorization.k8s.io/v1beta1 ClusterRole is deprecated in v1.17+, unavailable in v1.22+; use rbac.authorization.k8s.io/v1 ClusterRole\n",
      "W1004 20:26:13.721111     764 warnings.go:70] rbac.authorization.k8s.io/v1beta1 ClusterRole is deprecated in v1.17+, unavailable in v1.22+; use rbac.authorization.k8s.io/v1 ClusterRole\n",
      "W1004 20:26:13.722583     764 warnings.go:70] rbac.authorization.k8s.io/v1beta1 ClusterRole is deprecated in v1.17+, unavailable in v1.22+; use rbac.authorization.k8s.io/v1 ClusterRole\n",
      "W1004 20:26:13.724066     764 warnings.go:70] rbac.authorization.k8s.io/v1beta1 ClusterRole is deprecated in v1.17+, unavailable in v1.22+; use rbac.authorization.k8s.io/v1 ClusterRole\n",
      "W1004 20:26:13.725770     764 warnings.go:70] rbac.authorization.k8s.io/v1beta1 ClusterRole is deprecated in v1.17+, unavailable in v1.22+; use rbac.authorization.k8s.io/v1 ClusterRole\n",
      "W1004 20:26:13.727264     764 warnings.go:70] rbac.authorization.k8s.io/v1beta1 ClusterRole is deprecated in v1.17+, unavailable in v1.22+; use rbac.authorization.k8s.io/v1 ClusterRole\n",
      "W1004 20:26:13.728749     764 warnings.go:70] rbac.authorization.k8s.io/v1beta1 ClusterRole is deprecated in v1.17+, unavailable in v1.22+; use rbac.authorization.k8s.io/v1 ClusterRole\n",
      "W1004 20:26:13.730310     764 warnings.go:70] rbac.authorization.k8s.io/v1beta1 ClusterRoleBinding is deprecated in v1.17+, unavailable in v1.22+; use rbac.authorization.k8s.io/v1 ClusterRoleBinding\n",
      "W1004 20:26:13.731892     764 warnings.go:70] rbac.authorization.k8s.io/v1beta1 ClusterRoleBinding is deprecated in v1.17+, unavailable in v1.22+; use rbac.authorization.k8s.io/v1 ClusterRoleBinding\n",
      "W1004 20:26:13.733381     764 warnings.go:70] rbac.authorization.k8s.io/v1beta1 Role is deprecated in v1.17+, unavailable in v1.22+; use rbac.authorization.k8s.io/v1 Role\n",
      "W1004 20:26:13.735108     764 warnings.go:70] rbac.authorization.k8s.io/v1beta1 RoleBinding is deprecated in v1.17+, unavailable in v1.22+; use rbac.authorization.k8s.io/v1 RoleBinding\n",
      "W1004 20:26:13.808059     764 warnings.go:70] rbac.authorization.k8s.io/v1beta1 ClusterRole is deprecated in v1.17+, unavailable in v1.22+; use rbac.authorization.k8s.io/v1 ClusterRole\n",
      "W1004 20:26:13.810068     764 warnings.go:70] rbac.authorization.k8s.io/v1beta1 ClusterRole is deprecated in v1.17+, unavailable in v1.22+; use rbac.authorization.k8s.io/v1 ClusterRole\n",
      "W1004 20:26:13.810234     764 warnings.go:70] rbac.authorization.k8s.io/v1beta1 ClusterRole is deprecated in v1.17+, unavailable in v1.22+; use rbac.authorization.k8s.io/v1 ClusterRole\n",
      "W1004 20:26:13.810483     764 warnings.go:70] rbac.authorization.k8s.io/v1beta1 ClusterRole is deprecated in v1.17+, unavailable in v1.22+; use rbac.authorization.k8s.io/v1 ClusterRole\n",
      "W1004 20:26:13.810944     764 warnings.go:70] rbac.authorization.k8s.io/v1beta1 ClusterRole is deprecated in v1.17+, unavailable in v1.22+; use rbac.authorization.k8s.io/v1 ClusterRole\n",
      "W1004 20:26:13.812827     764 warnings.go:70] rbac.authorization.k8s.io/v1beta1 ClusterRole is deprecated in v1.17+, unavailable in v1.22+; use rbac.authorization.k8s.io/v1 ClusterRole\n",
      "W1004 20:26:13.813149     764 warnings.go:70] rbac.authorization.k8s.io/v1beta1 ClusterRole is deprecated in v1.17+, unavailable in v1.22+; use rbac.authorization.k8s.io/v1 ClusterRole\n",
      "W1004 20:26:13.813361     764 warnings.go:70] rbac.authorization.k8s.io/v1beta1 ClusterRole is deprecated in v1.17+, unavailable in v1.22+; use rbac.authorization.k8s.io/v1 ClusterRole\n",
      "W1004 20:26:13.813581     764 warnings.go:70] rbac.authorization.k8s.io/v1beta1 ClusterRole is deprecated in v1.17+, unavailable in v1.22+; use rbac.authorization.k8s.io/v1 ClusterRole\n",
      "W1004 20:26:13.813653     764 warnings.go:70] rbac.authorization.k8s.io/v1beta1 ClusterRole is deprecated in v1.17+, unavailable in v1.22+; use rbac.authorization.k8s.io/v1 ClusterRole\n",
      "W1004 20:26:13.816734     764 warnings.go:70] rbac.authorization.k8s.io/v1beta1 ClusterRoleBinding is deprecated in v1.17+, unavailable in v1.22+; use rbac.authorization.k8s.io/v1 ClusterRoleBinding\n",
      "W1004 20:26:13.817589     764 warnings.go:70] rbac.authorization.k8s.io/v1beta1 ClusterRoleBinding is deprecated in v1.17+, unavailable in v1.22+; use rbac.authorization.k8s.io/v1 ClusterRoleBinding\n",
      "W1004 20:26:13.820611     764 warnings.go:70] rbac.authorization.k8s.io/v1beta1 Role is deprecated in v1.17+, unavailable in v1.22+; use rbac.authorization.k8s.io/v1 Role\n",
      "W1004 20:26:13.823283     764 warnings.go:70] rbac.authorization.k8s.io/v1beta1 RoleBinding is deprecated in v1.17+, unavailable in v1.22+; use rbac.authorization.k8s.io/v1 RoleBinding\n",
      "NAME: ambassador\n",
      "LAST DEPLOYED: Tue Oct  4 20:26:12 2022\n",
      "NAMESPACE: ambassador\n",
      "STATUS: deployed\n",
      "REVISION: 1\n",
      "NOTES:\n",
      "-------------------------------------------------------------------------------\n",
      "  Congratulations! You've successfully installed Ambassador!\n",
      "\n",
      "-------------------------------------------------------------------------------\n",
      "To get the IP address of Ambassador, run the following commands:\n",
      "  export POD_NAME=$(kubectl get pods --namespace ambassador -l \"app=ambassador,release=ambassador\" -o jsonpath=\"{.items[0].metadata.name}\")\n",
      "  echo \"Visit http://127.0.0.1:8080 to use your application\"\n",
      "  kubectl port-forward $POD_NAME 8080:80\n",
      "\n",
      "For help, visit our Slack at http://a8r.io/Slack or view the documentation online at https://www.getambassador.io.\n"
     ]
    }
   ],
   "source": [
    "!helm repo add datawire https://www.getambassador.io\n",
    "!helm upgrade --install ambassador datawire/ambassador \\\n",
    "  --set image.repository=docker.io/datawire/ambassador \\\n",
    "  --set service.type=ClusterIP \\\n",
    "  --set replicaCount=1 \\\n",
    "  --set crds.keep=false \\\n",
    "  --set enableAES=false \\\n",
    "  --create-namespace \\\n",
    "  --namespace ambassador"
   ]
  },
  {
   "cell_type": "code",
   "execution_count": 65,
   "id": "60cfdcf3-f92c-4036-bec9-c2a05c7cde64",
   "metadata": {},
   "outputs": [
    {
     "name": "stdout",
     "output_type": "stream",
     "text": [
      "error: error executing jsonpath \"{.items[0].metadata.name}\": Error executing template: array index out of bounds: index 0, length 0. Printing more information for debugging the template:\n",
      "\ttemplate was:\n",
      "\t\t{.items[0].metadata.name}\n",
      "\tobject given to jsonpath engine was:\n",
      "\t\tmap[string]interface {}{\"apiVersion\":\"v1\", \"items\":[]interface {}{}, \"kind\":\"List\", \"metadata\":map[string]interface {}{\"resourceVersion\":\"\"}}\n",
      "\n",
      "\n"
     ]
    }
   ],
   "source": [
    "!export export POD_NAME=$(kubectl get pods --namespace ambassador -l \"app=ambassador,release=ambassador\" -o jsonpath=\"{.items[0].metadata.name}\")"
   ]
  },
  {
   "cell_type": "code",
   "execution_count": 57,
   "id": "6c96a274-c10c-40dd-bf52-a5e48be0180b",
   "metadata": {},
   "outputs": [
    {
     "name": "stdout",
     "output_type": "stream",
     "text": [
      "NAME: seldon-core\n",
      "LAST DEPLOYED: Tue Oct  4 20:29:14 2022\n",
      "NAMESPACE: seldon-system\n",
      "STATUS: deployed\n",
      "REVISION: 1\n",
      "TEST SUITE: None\n",
      "Release \"seldon-core\" has been upgraded. Happy Helming!\n",
      "NAME: seldon-core\n",
      "LAST DEPLOYED: Tue Oct  4 20:29:19 2022\n",
      "NAMESPACE: seldon-system\n",
      "STATUS: deployed\n",
      "REVISION: 2\n",
      "TEST SUITE: None\n"
     ]
    }
   ],
   "source": [
    "#!helm install seldon-core seldon-core-operator \\\n",
    "#    --repo https://storage.googleapis.com/seldon-charts \\\n",
    "#    --set usageMetrics.enabled=true \\\n",
    "#    --set istio.enabled=false \\\n",
    "#    --namespace seldon-system\n",
    "\n",
    "!helm upgrade --install seldon-core seldon-core-operator \\\n",
    "    --repo https://storage.googleapis.com/seldon-charts \\\n",
    "    --set ambassador.enabled=true \\\n",
    "    --create-namespace \\\n",
    "    --namespace seldon-system"
   ]
  },
  {
   "cell_type": "code",
   "execution_count": null,
   "id": "cb4badd3-3193-44e1-a72d-190fc80e8ff9",
   "metadata": {},
   "outputs": [],
   "source": []
  },
  {
   "cell_type": "code",
   "execution_count": 58,
   "id": "fabf6256-f8a8-49cd-b41d-a6e202cc4614",
   "metadata": {},
   "outputs": [
    {
     "name": "stdout",
     "output_type": "stream",
     "text": [
      "NAMESPACE       NAME                                          READY   STATUS        RESTARTS   AGE\n",
      "ambassador      ambassador-6c86bd49f9-rwcbx                   1/1     Running       0          3m21s\n",
      "ambassador      ambassador-agent-7958b89495-dfzsd             1/1     Running       0          3m21s\n",
      "default         mlflow-65d6df4fdd-g9rzx                       1/1     Running       1          81m\n",
      "default         nfs-nfs-server-provisioner-0                  1/1     Running       0          81m\n",
      "default         rapidsai-98368-jupyter-75cc9dc675-z6zdw       1/1     Running       0          81m\n",
      "default         rapidsai-98368-scheduler-686f5f7b65-2l8w4     1/1     Running       2          81m\n",
      "default         rapidsai-98368-worker-d56nh                   1/1     Running       1          81m\n",
      "default         rapidsai-98368-worker-gcflw                   1/1     Running       6          81m\n",
      "kube-system     coredns-6c46d74d64-7qmpm                      1/1     Running       0          81m\n",
      "kube-system     helm-install-traefik-crd-w6wnv                0/1     Completed     1          81m\n",
      "kube-system     helm-install-traefik-gg5ds                    0/1     Completed     5          81m\n",
      "kube-system     local-path-provisioner-84bb864455-2fqcb       1/1     Running       0          81m\n",
      "kube-system     metrics-server-ff9dbcb6c-tmk4n                1/1     Running       0          81m\n",
      "kube-system     nvidia-device-plugin-daemonset-29kxf          1/1     Running       2          81m\n",
      "kube-system     nvidia-device-plugin-daemonset-llk4p          1/1     Running       0          81m\n",
      "kube-system     seldon-spartakus-volunteer-5b57b95596-mltrv   1/1     Terminating   0          17s\n",
      "kube-system     svclb-traefik-28zbr                           2/2     Running       0          71m\n",
      "kube-system     svclb-traefik-pkqph                           2/2     Running       1          76m\n",
      "kube-system     traefik-55fdc6d984-8r59w                      1/1     Running       0          76m\n",
      "seldon-system   seldon-controller-manager-6d67994b67-cmk8z    1/1     Running       0          17s\n"
     ]
    }
   ],
   "source": [
    "!kubectl get pods -A"
   ]
  },
  {
   "cell_type": "code",
   "execution_count": 50,
   "id": "faa4b867-cbed-46a1-8ca6-80fa6e207134",
   "metadata": {},
   "outputs": [
    {
     "name": "stdout",
     "output_type": "stream",
     "text": [
      "W1004 20:23:15.555725     694 warnings.go:70] policy/v1beta1 PodSecurityPolicy is deprecated in v1.21+, unavailable in v1.25+\n",
      "W1004 20:23:15.557462     694 warnings.go:70] policy/v1beta1 PodSecurityPolicy is deprecated in v1.21+, unavailable in v1.25+\n",
      "W1004 20:23:15.595955     694 warnings.go:70] rbac.authorization.k8s.io/v1beta1 ClusterRole is deprecated in v1.17+, unavailable in v1.22+; use rbac.authorization.k8s.io/v1 ClusterRole\n",
      "W1004 20:23:15.597582     694 warnings.go:70] rbac.authorization.k8s.io/v1beta1 ClusterRole is deprecated in v1.17+, unavailable in v1.22+; use rbac.authorization.k8s.io/v1 ClusterRole\n",
      "W1004 20:23:15.599015     694 warnings.go:70] rbac.authorization.k8s.io/v1beta1 ClusterRole is deprecated in v1.17+, unavailable in v1.22+; use rbac.authorization.k8s.io/v1 ClusterRole\n",
      "W1004 20:23:15.600605     694 warnings.go:70] rbac.authorization.k8s.io/v1beta1 ClusterRole is deprecated in v1.17+, unavailable in v1.22+; use rbac.authorization.k8s.io/v1 ClusterRole\n",
      "W1004 20:23:15.605217     694 warnings.go:70] rbac.authorization.k8s.io/v1beta1 ClusterRoleBinding is deprecated in v1.17+, unavailable in v1.22+; use rbac.authorization.k8s.io/v1 ClusterRoleBinding\n",
      "W1004 20:23:15.606833     694 warnings.go:70] rbac.authorization.k8s.io/v1beta1 ClusterRoleBinding is deprecated in v1.17+, unavailable in v1.22+; use rbac.authorization.k8s.io/v1 ClusterRoleBinding\n",
      "W1004 20:23:15.608290     694 warnings.go:70] rbac.authorization.k8s.io/v1beta1 ClusterRoleBinding is deprecated in v1.17+, unavailable in v1.22+; use rbac.authorization.k8s.io/v1 ClusterRoleBinding\n",
      "W1004 20:23:15.609745     694 warnings.go:70] rbac.authorization.k8s.io/v1beta1 ClusterRoleBinding is deprecated in v1.17+, unavailable in v1.22+; use rbac.authorization.k8s.io/v1 ClusterRoleBinding\n",
      "W1004 20:23:15.612825     694 warnings.go:70] rbac.authorization.k8s.io/v1beta1 Role is deprecated in v1.17+, unavailable in v1.22+; use rbac.authorization.k8s.io/v1 Role\n",
      "W1004 20:23:15.615731     694 warnings.go:70] rbac.authorization.k8s.io/v1beta1 RoleBinding is deprecated in v1.17+, unavailable in v1.22+; use rbac.authorization.k8s.io/v1 RoleBinding\n",
      "W1004 20:23:15.697457     694 warnings.go:70] policy/v1beta1 PodSecurityPolicy is deprecated in v1.21+, unavailable in v1.25+\n",
      "W1004 20:23:15.697748     694 warnings.go:70] policy/v1beta1 PodSecurityPolicy is deprecated in v1.21+, unavailable in v1.25+\n",
      "W1004 20:23:15.733147     694 warnings.go:70] rbac.authorization.k8s.io/v1beta1 ClusterRole is deprecated in v1.17+, unavailable in v1.22+; use rbac.authorization.k8s.io/v1 ClusterRole\n",
      "W1004 20:23:15.734091     694 warnings.go:70] rbac.authorization.k8s.io/v1beta1 ClusterRole is deprecated in v1.17+, unavailable in v1.22+; use rbac.authorization.k8s.io/v1 ClusterRole\n",
      "W1004 20:23:15.734241     694 warnings.go:70] rbac.authorization.k8s.io/v1beta1 ClusterRole is deprecated in v1.17+, unavailable in v1.22+; use rbac.authorization.k8s.io/v1 ClusterRole\n",
      "W1004 20:23:15.734290     694 warnings.go:70] rbac.authorization.k8s.io/v1beta1 ClusterRole is deprecated in v1.17+, unavailable in v1.22+; use rbac.authorization.k8s.io/v1 ClusterRole\n",
      "W1004 20:23:15.738928     694 warnings.go:70] rbac.authorization.k8s.io/v1beta1 ClusterRoleBinding is deprecated in v1.17+, unavailable in v1.22+; use rbac.authorization.k8s.io/v1 ClusterRoleBinding\n",
      "W1004 20:23:15.739073     694 warnings.go:70] rbac.authorization.k8s.io/v1beta1 ClusterRoleBinding is deprecated in v1.17+, unavailable in v1.22+; use rbac.authorization.k8s.io/v1 ClusterRoleBinding\n",
      "W1004 20:23:15.739207     694 warnings.go:70] rbac.authorization.k8s.io/v1beta1 ClusterRoleBinding is deprecated in v1.17+, unavailable in v1.22+; use rbac.authorization.k8s.io/v1 ClusterRoleBinding\n",
      "W1004 20:23:15.739496     694 warnings.go:70] rbac.authorization.k8s.io/v1beta1 ClusterRoleBinding is deprecated in v1.17+, unavailable in v1.22+; use rbac.authorization.k8s.io/v1 ClusterRoleBinding\n",
      "W1004 20:23:15.744238     694 warnings.go:70] rbac.authorization.k8s.io/v1beta1 Role is deprecated in v1.17+, unavailable in v1.22+; use rbac.authorization.k8s.io/v1 Role\n",
      "W1004 20:23:15.748602     694 warnings.go:70] rbac.authorization.k8s.io/v1beta1 RoleBinding is deprecated in v1.17+, unavailable in v1.22+; use rbac.authorization.k8s.io/v1 RoleBinding\n",
      "NAME: seldon-core-analytics\n",
      "LAST DEPLOYED: Tue Oct  4 20:23:14 2022\n",
      "NAMESPACE: seldon-system\n",
      "STATUS: deployed\n",
      "REVISION: 1\n"
     ]
    }
   ],
   "source": []
  },
  {
   "cell_type": "code",
   "execution_count": 52,
   "id": "738bc386-5cc8-4c60-8f92-031aca6e4990",
   "metadata": {},
   "outputs": [
    {
     "name": "stdout",
     "output_type": "stream",
     "text": [
      "NAME                 \tNAMESPACE    \tREVISION\tUPDATED                                \tSTATUS  \tCHART                       \tAPP VERSION\n",
      "mlflow               \tdefault      \t1       \t2022-10-04 19:08:03.618914726 +0000 UTC\tdeployed\tmlflow-0.7.13               \t1.28.0.19  \n",
      "nfs                  \tdefault      \t1       \t2022-10-04 19:08:01.505567575 +0000 UTC\tdeployed\tnfs-server-provisioner-1.4.0\t3.0.0      \n",
      "rapidsai-98368       \tdefault      \t1       \t2022-10-04 19:08:08.487430457 +0000 UTC\tdeployed\trapidsai-1.47.4             \t0.17       \n",
      "seldon-core-analytics\tseldon-system\t1       \t2022-10-04 20:23:14.240017231 +0000 UTC\tdeployed\tseldon-core-analytics-1.14.1\t1.14.1     \n",
      "traefik              \tkube-system  \t1       \t2022-10-04 19:13:32.306156737 +0000 UTC\tdeployed\ttraefik-10.9.100            \t2.5.6      \n",
      "traefik-crd          \tkube-system  \t1       \t2022-10-04 19:13:26.962565853 +0000 UTC\tdeployed\ttraefik-crd-10.9.100        \t           \n"
     ]
    }
   ],
   "source": [
    "!helm ls -A"
   ]
  },
  {
   "cell_type": "code",
   "execution_count": 54,
   "id": "c7b8c213-80ec-4209-805d-91ce2acdf526",
   "metadata": {},
   "outputs": [
    {
     "name": "stdout",
     "output_type": "stream",
     "text": [
      "W1004 20:24:09.060358     742 warnings.go:70] rbac.authorization.k8s.io/v1beta1 RoleBinding is deprecated in v1.17+, unavailable in v1.22+; use rbac.authorization.k8s.io/v1 RoleBinding\n",
      "W1004 20:24:09.072336     742 warnings.go:70] rbac.authorization.k8s.io/v1beta1 Role is deprecated in v1.17+, unavailable in v1.22+; use rbac.authorization.k8s.io/v1 Role\n",
      "W1004 20:24:09.080805     742 warnings.go:70] rbac.authorization.k8s.io/v1beta1 ClusterRoleBinding is deprecated in v1.17+, unavailable in v1.22+; use rbac.authorization.k8s.io/v1 ClusterRoleBinding\n",
      "W1004 20:24:09.082558     742 warnings.go:70] rbac.authorization.k8s.io/v1beta1 ClusterRoleBinding is deprecated in v1.17+, unavailable in v1.22+; use rbac.authorization.k8s.io/v1 ClusterRoleBinding\n",
      "W1004 20:24:09.083425     742 warnings.go:70] rbac.authorization.k8s.io/v1beta1 ClusterRoleBinding is deprecated in v1.17+, unavailable in v1.22+; use rbac.authorization.k8s.io/v1 ClusterRoleBinding\n",
      "W1004 20:24:09.083646     742 warnings.go:70] rbac.authorization.k8s.io/v1beta1 ClusterRoleBinding is deprecated in v1.17+, unavailable in v1.22+; use rbac.authorization.k8s.io/v1 ClusterRoleBinding\n",
      "W1004 20:24:09.088857     742 warnings.go:70] rbac.authorization.k8s.io/v1beta1 ClusterRole is deprecated in v1.17+, unavailable in v1.22+; use rbac.authorization.k8s.io/v1 ClusterRole\n",
      "W1004 20:24:09.089647     742 warnings.go:70] rbac.authorization.k8s.io/v1beta1 ClusterRole is deprecated in v1.17+, unavailable in v1.22+; use rbac.authorization.k8s.io/v1 ClusterRole\n",
      "W1004 20:24:09.089937     742 warnings.go:70] rbac.authorization.k8s.io/v1beta1 ClusterRole is deprecated in v1.17+, unavailable in v1.22+; use rbac.authorization.k8s.io/v1 ClusterRole\n",
      "W1004 20:24:09.090897     742 warnings.go:70] rbac.authorization.k8s.io/v1beta1 ClusterRole is deprecated in v1.17+, unavailable in v1.22+; use rbac.authorization.k8s.io/v1 ClusterRole\n",
      "W1004 20:24:09.117203     742 warnings.go:70] policy/v1beta1 PodSecurityPolicy is deprecated in v1.21+, unavailable in v1.25+\n",
      "W1004 20:24:09.119542     742 warnings.go:70] policy/v1beta1 PodSecurityPolicy is deprecated in v1.21+, unavailable in v1.25+\n",
      "release \"seldon-core-analytics\" uninstalled\n"
     ]
    }
   ],
   "source": [
    "#!helm uninstall seldon-core-analytics -n seldon-system"
   ]
  },
  {
   "cell_type": "code",
   "execution_count": 59,
   "id": "09e6fa70-5b67-45a6-a32a-f5558d6c2905",
   "metadata": {},
   "outputs": [
    {
     "name": "stdout",
     "output_type": "stream",
     "text": [
      "Error from server (InternalError): error when creating \"model-a-b.yaml\": Internal error occurred: failed calling webhook \"v1.vseldondeployment.kb.io\": Post \"https://seldon-webhook-service.seldon-system.svc:443/validate-machinelearning-seldon-io-v1-seldondeployment?timeout=10s\": x509: certificate signed by unknown authority (possibly because of \"crypto/rsa: verification error\" while trying to verify candidate authority certificate \"custom-metrics-ca\")\n"
     ]
    }
   ],
   "source": [
    "!kubectl apply -f model-a-b.yaml"
   ]
  },
  {
   "cell_type": "code",
   "execution_count": 34,
   "id": "aa035fed-3c49-4981-b5c0-dbdb364050d8",
   "metadata": {},
   "outputs": [
    {
     "name": "stdout",
     "output_type": "stream",
     "text": [
      "NAME             AGE\n",
      "mre-classifier   3s\n"
     ]
    }
   ],
   "source": [
    "!kubectl get sdep"
   ]
  },
  {
   "cell_type": "code",
   "execution_count": null,
   "id": "2a57ece5-ff1d-40dd-9a3d-b986b5ed6731",
   "metadata": {},
   "outputs": [],
   "source": []
  },
  {
   "cell_type": "code",
   "execution_count": null,
   "id": "7655532d-d56c-40d7-88d6-d4bb596fdedd",
   "metadata": {},
   "outputs": [],
   "source": []
  },
  {
   "cell_type": "code",
   "execution_count": null,
   "id": "102c4873-d824-4020-a64b-0e3251da4c19",
   "metadata": {},
   "outputs": [],
   "source": []
  }
 ],
 "metadata": {
  "kernelspec": {
   "display_name": "Python 3 (ipykernel)",
   "language": "python",
   "name": "python3"
  },
  "language_info": {
   "codemirror_mode": {
    "name": "ipython",
    "version": 3
   },
   "file_extension": ".py",
   "mimetype": "text/x-python",
   "name": "python",
   "nbconvert_exporter": "python",
   "pygments_lexer": "ipython3",
   "version": "3.9.10"
  }
 },
 "nbformat": 4,
 "nbformat_minor": 5
}
