{
 "cells": [
  {
   "cell_type": "markdown",
   "id": "cb3b3f03-235e-4a3a-a121-3d027aed0341",
   "metadata": {},
   "source": [
    "# MRE Quality ML Prediction\n",
    "\n",
    "### MLFlow Pre-packaged Model Server AB Test Deployment on Kubernetes distrubuted compute with GPUs \n",
    "In this example powered by *ADEPT* methodogies, we will build two models with MLFlow and we will deploy them as an A/B test deployment. The reason this is powerful is because it allows you to deploy a new model next to the old one, distributing a percentage of traffic. These deployment strategies are quite simple using Seldon, and can be extended to shadow deployments, multi-armed-bandits, etc.\n",
    "\n",
    "Tutorial Overview\n",
    "This tutorial will follow closely break down in the following sections:\n",
    "\n",
    "1. Train the MLFlow elastic net MRE Quality example\n",
    "\n",
    "2. Deploy your trained model leveraging MLFlow model server\n",
    "\n",
    "3. Test the deployed MLFlow model by sending requests\n",
    "\n",
    "4. Deploy your second model as an A/B test\n",
    "\n",
    "5. Visualise and monitor the performance of your models with automated self-service dashboards for decsion engineering!"
   ]
  },
  {
   "cell_type": "code",
   "execution_count": 3,
   "id": "cf1d5843-82a0-45b6-ab7c-3b4ad9709da2",
   "metadata": {},
   "outputs": [
    {
     "name": "stdout",
     "output_type": "stream",
     "text": [
      "2.0.1\n",
      "2.0.3\n"
     ]
    }
   ],
   "source": [
    "import itsdangerous as itd\n",
    "import werkzeug as wkz\n",
    "import mlflow\n",
    "\n",
    "!pip uninstall itsdangerous\n",
    "!pip uninstall werkzeug\n",
    "\n",
    "!pip install itsdangerous==2.0.1 \n",
    "!pip install werkzeug==2.0.3\n",
    "\n",
    "print('v' + itd.__version__) ## Output: v2.0.1\n",
    "print('v' + wkz.__version__) ## Output: v2.0.3\n",
    "\n",
    "##  If output doesnt match, uninstall the two packages above and then reinstall \n",
    "##  correct version, reload the notebook kernel."
   ]
  },
  {
   "cell_type": "code",
   "execution_count": 17,
   "id": "e35af293-1d9f-44b3-bd7f-72c054d3608c",
   "metadata": {},
   "outputs": [
    {
     "name": "stdout",
     "output_type": "stream",
     "text": [
      "v1.14.1\n"
     ]
    }
   ],
   "source": [
    "import numpy as np\n",
    "import pandas as pd\n",
    "import mlflow\n",
    "\n",
    "from seldon_core.seldon_client import SeldonClient\n",
    "mlflow.set_tracking_uri('http://3.216.27.251:32600') ## replace tracking URI from ADEPT/Aktiver GUI Pipeline Catalog page for MLFlow\n",
    "mlflow.get_tracking_uri()\n",
    "print('v'+ mlflow.__version__) ## v1.14.1"
   ]
  },
  {
   "cell_type": "markdown",
   "id": "ed92ff2f-2092-4a59-98f4-4e21b50ea840",
   "metadata": {},
   "source": [
    "### Define MLflow project with MLproject file:\n",
    "Next, project uses Conda for the environment and that it’s defined in the conda.yaml file.\n",
    "Lastly, we can also see that the training will be performed by the train.py file, which receives two parameters ```alpha``` and ```l1_ratio```."
   ]
  },
  {
   "cell_type": "code",
   "execution_count": 7,
   "id": "2ff5bd5e-2edc-4293-9692-8b1047d4a6e2",
   "metadata": {},
   "outputs": [
    {
     "name": "stdout",
     "output_type": "stream",
     "text": [
      "\u001b[37m\u001b[39;49;00m\n",
      "\u001b[37m\u001b[39;49;00m\n",
      "\n"
     ]
    }
   ],
   "source": [
    "!pygmentize -l yaml MLproject\n",
    "!pygmentize conda.yaml\n",
    "!pygmentize train.py"
   ]
  },
  {
   "cell_type": "code",
   "execution_count": 8,
   "id": "fb4b6d95-5dc7-4f39-b083-91e5118828fd",
   "metadata": {},
   "outputs": [
    {
     "data": {
      "text/html": [
       "<div>\n",
       "<style scoped>\n",
       "    .dataframe tbody tr th:only-of-type {\n",
       "        vertical-align: middle;\n",
       "    }\n",
       "\n",
       "    .dataframe tbody tr th {\n",
       "        vertical-align: top;\n",
       "    }\n",
       "\n",
       "    .dataframe thead th {\n",
       "        text-align: right;\n",
       "    }\n",
       "</style>\n",
       "<table border=\"1\" class=\"dataframe\">\n",
       "  <thead>\n",
       "    <tr style=\"text-align: right;\">\n",
       "      <th></th>\n",
       "      <th>fixed acidity</th>\n",
       "      <th>volatile acidity</th>\n",
       "      <th>citric acid</th>\n",
       "      <th>residual sugar</th>\n",
       "      <th>chlorides</th>\n",
       "      <th>free sulfur dioxide</th>\n",
       "      <th>total sulfur dioxide</th>\n",
       "      <th>density</th>\n",
       "      <th>pH</th>\n",
       "      <th>sulphates</th>\n",
       "      <th>alcohol</th>\n",
       "      <th>quality</th>\n",
       "    </tr>\n",
       "  </thead>\n",
       "  <tbody>\n",
       "    <tr>\n",
       "      <th>0</th>\n",
       "      <td>7.0</td>\n",
       "      <td>0.27</td>\n",
       "      <td>0.36</td>\n",
       "      <td>20.7</td>\n",
       "      <td>0.045</td>\n",
       "      <td>45.0</td>\n",
       "      <td>170.0</td>\n",
       "      <td>1.0010</td>\n",
       "      <td>3.00</td>\n",
       "      <td>0.45</td>\n",
       "      <td>8.8</td>\n",
       "      <td>6</td>\n",
       "    </tr>\n",
       "    <tr>\n",
       "      <th>1</th>\n",
       "      <td>6.3</td>\n",
       "      <td>0.30</td>\n",
       "      <td>0.34</td>\n",
       "      <td>1.6</td>\n",
       "      <td>0.049</td>\n",
       "      <td>14.0</td>\n",
       "      <td>132.0</td>\n",
       "      <td>0.9940</td>\n",
       "      <td>3.30</td>\n",
       "      <td>0.49</td>\n",
       "      <td>9.5</td>\n",
       "      <td>6</td>\n",
       "    </tr>\n",
       "    <tr>\n",
       "      <th>2</th>\n",
       "      <td>8.1</td>\n",
       "      <td>0.28</td>\n",
       "      <td>0.40</td>\n",
       "      <td>6.9</td>\n",
       "      <td>0.050</td>\n",
       "      <td>30.0</td>\n",
       "      <td>97.0</td>\n",
       "      <td>0.9951</td>\n",
       "      <td>3.26</td>\n",
       "      <td>0.44</td>\n",
       "      <td>10.1</td>\n",
       "      <td>6</td>\n",
       "    </tr>\n",
       "    <tr>\n",
       "      <th>3</th>\n",
       "      <td>7.2</td>\n",
       "      <td>0.23</td>\n",
       "      <td>0.32</td>\n",
       "      <td>8.5</td>\n",
       "      <td>0.058</td>\n",
       "      <td>47.0</td>\n",
       "      <td>186.0</td>\n",
       "      <td>0.9956</td>\n",
       "      <td>3.19</td>\n",
       "      <td>0.40</td>\n",
       "      <td>9.9</td>\n",
       "      <td>6</td>\n",
       "    </tr>\n",
       "    <tr>\n",
       "      <th>4</th>\n",
       "      <td>7.2</td>\n",
       "      <td>0.23</td>\n",
       "      <td>0.32</td>\n",
       "      <td>8.5</td>\n",
       "      <td>0.058</td>\n",
       "      <td>47.0</td>\n",
       "      <td>186.0</td>\n",
       "      <td>0.9956</td>\n",
       "      <td>3.19</td>\n",
       "      <td>0.40</td>\n",
       "      <td>9.9</td>\n",
       "      <td>6</td>\n",
       "    </tr>\n",
       "  </tbody>\n",
       "</table>\n",
       "</div>"
      ],
      "text/plain": [
       "   fixed acidity  volatile acidity  citric acid  residual sugar  chlorides  \\\n",
       "0            7.0              0.27         0.36            20.7      0.045   \n",
       "1            6.3              0.30         0.34             1.6      0.049   \n",
       "2            8.1              0.28         0.40             6.9      0.050   \n",
       "3            7.2              0.23         0.32             8.5      0.058   \n",
       "4            7.2              0.23         0.32             8.5      0.058   \n",
       "\n",
       "   free sulfur dioxide  total sulfur dioxide  density    pH  sulphates  \\\n",
       "0                 45.0                 170.0   1.0010  3.00       0.45   \n",
       "1                 14.0                 132.0   0.9940  3.30       0.49   \n",
       "2                 30.0                  97.0   0.9951  3.26       0.44   \n",
       "3                 47.0                 186.0   0.9956  3.19       0.40   \n",
       "4                 47.0                 186.0   0.9956  3.19       0.40   \n",
       "\n",
       "   alcohol  quality  \n",
       "0      8.8        6  \n",
       "1      9.5        6  \n",
       "2     10.1        6  \n",
       "3      9.9        6  \n",
       "4      9.9        6  "
      ]
     },
     "execution_count": 8,
     "metadata": {},
     "output_type": "execute_result"
    }
   ],
   "source": [
    "data = pd.read_csv(\"mre-quality.csv\")\n",
    "data.head()"
   ]
  },
  {
   "cell_type": "code",
   "execution_count": 10,
   "id": "b1e0ca7b-c1be-48e8-92ca-81f3c9878f9b",
   "metadata": {},
   "outputs": [],
   "source": [
    "import mlflow"
   ]
  },
  {
   "cell_type": "code",
   "execution_count": 12,
   "id": "176afa71-0611-4f30-a086-29fcc6e30028",
   "metadata": {},
   "outputs": [
    {
     "data": {
      "text/plain": [
       "'http://3.216.27.251:32600'"
      ]
     },
     "execution_count": 12,
     "metadata": {},
     "output_type": "execute_result"
    }
   ],
   "source": [
    "mlflow.set_tracking_uri('http://3.216.27.251:32600')\n",
    "mlflow.get_tracking_uri()"
   ]
  },
  {
   "cell_type": "code",
   "execution_count": 13,
   "id": "21f371ef-ef17-4d11-be7d-9862c7898061",
   "metadata": {},
   "outputs": [
    {
     "name": "stdout",
     "output_type": "stream",
     "text": [
      "Traceback (most recent call last):\n",
      "  File \"/opt/conda/envs/rapids/bin/mlflow\", line 8, in <module>\n",
      "    sys.exit(cli())\n",
      "  File \"/opt/conda/envs/rapids/lib/python3.9/site-packages/click/core.py\", line 1128, in __call__\n",
      "    return self.main(*args, **kwargs)\n",
      "  File \"/opt/conda/envs/rapids/lib/python3.9/site-packages/click/core.py\", line 1053, in main\n",
      "    rv = self.invoke(ctx)\n",
      "  File \"/opt/conda/envs/rapids/lib/python3.9/site-packages/click/core.py\", line 1659, in invoke\n",
      "    return _process_result(sub_ctx.command.invoke(sub_ctx))\n",
      "  File \"/opt/conda/envs/rapids/lib/python3.9/site-packages/click/core.py\", line 1395, in invoke\n",
      "    return ctx.invoke(self.callback, **ctx.params)\n",
      "  File \"/opt/conda/envs/rapids/lib/python3.9/site-packages/click/core.py\", line 754, in invoke\n",
      "    return __callback(*args, **kwargs)\n",
      "  File \"/opt/conda/envs/rapids/lib/python3.9/site-packages/mlflow/cli.py\", line 168, in run\n",
      "    projects.run(\n",
      "  File \"/opt/conda/envs/rapids/lib/python3.9/site-packages/mlflow/projects/__init__.py\", line 293, in run\n",
      "    submitted_run_obj = _run(\n",
      "  File \"/opt/conda/envs/rapids/lib/python3.9/site-packages/mlflow/projects/__init__.py\", line 92, in _run\n",
      "    submitted_run = backend.run(\n",
      "  File \"/opt/conda/envs/rapids/lib/python3.9/site-packages/mlflow/projects/backend/local.py\", line 45, in run\n",
      "    work_dir = fetch_and_validate_project(project_uri, version, entry_point, params)\n",
      "  File \"/opt/conda/envs/rapids/lib/python3.9/site-packages/mlflow/projects/utils.py\", line 125, in fetch_and_validate_project\n",
      "    project = _project_spec.load_project(work_dir)\n",
      "  File \"/opt/conda/envs/rapids/lib/python3.9/site-packages/mlflow/projects/_project_spec.py\", line 35, in load_project\n",
      "    project_name = yaml_obj.get(\"name\")\n",
      "AttributeError: 'NoneType' object has no attribute 'get'\n"
     ]
    }
   ],
   "source": [
    "!mlflow run . -P alpha=0.5 -P l1_ratio=0.5"
   ]
  },
  {
   "cell_type": "code",
   "execution_count": null,
   "id": "9fef3fe6-318b-4ef6-a529-585fc2044371",
   "metadata": {},
   "outputs": [],
   "source": []
  }
 ],
 "metadata": {
  "kernelspec": {
   "display_name": "Python 3 (ipykernel)",
   "language": "python",
   "name": "python3"
  },
  "language_info": {
   "codemirror_mode": {
    "name": "ipython",
    "version": 3
   },
   "file_extension": ".py",
   "mimetype": "text/x-python",
   "name": "python",
   "nbconvert_exporter": "python",
   "pygments_lexer": "ipython3",
   "version": "3.9.10"
  }
 },
 "nbformat": 4,
 "nbformat_minor": 5
}
